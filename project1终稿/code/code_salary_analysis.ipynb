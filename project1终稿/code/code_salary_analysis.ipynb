{
 "cells": [
  {
   "cell_type": "markdown",
   "metadata": {},
   "source": [
    "# Salary Datasets"
   ]
  },
  {
   "cell_type": "code",
   "execution_count": 157,
   "metadata": {},
   "outputs": [],
   "source": [
    "import pandas as pd"
   ]
  },
  {
   "cell_type": "code",
   "execution_count": 158,
   "metadata": {},
   "outputs": [],
   "source": [
    "df= pd.read_csv(\"degrees-that-pay-back.csv\")\n"
   ]
  },
  {
   "cell_type": "markdown",
   "metadata": {},
   "source": [
    "## Understanding Data(major)"
   ]
  },
  {
   "cell_type": "code",
   "execution_count": 159,
   "metadata": {},
   "outputs": [
    {
     "data": {
      "text/plain": [
       "(50, 8)"
      ]
     },
     "execution_count": 159,
     "metadata": {},
     "output_type": "execute_result"
    }
   ],
   "source": [
    "df.shape"
   ]
  },
  {
   "cell_type": "code",
   "execution_count": 160,
   "metadata": {
    "scrolled": true
   },
   "outputs": [
    {
     "data": {
      "text/plain": [
       "Undergraduate Major                                   object\n",
       "Starting Median Salary                                object\n",
       "Mid-Career Median Salary                              object\n",
       "Percent change from Starting to Mid-Career Salary    float64\n",
       "Mid-Career 10th Percentile Salary                     object\n",
       "Mid-Career 25th Percentile Salary                     object\n",
       "Mid-Career 75th Percentile Salary                     object\n",
       "Mid-Career 90th Percentile Salary                     object\n",
       "dtype: object"
      ]
     },
     "execution_count": 160,
     "metadata": {},
     "output_type": "execute_result"
    }
   ],
   "source": [
    "df.dtypes"
   ]
  },
  {
   "cell_type": "code",
   "execution_count": 161,
   "metadata": {},
   "outputs": [
    {
     "data": {
      "text/plain": [
       "Undergraduate Major                                  0\n",
       "Starting Median Salary                               0\n",
       "Mid-Career Median Salary                             0\n",
       "Percent change from Starting to Mid-Career Salary    0\n",
       "Mid-Career 10th Percentile Salary                    0\n",
       "Mid-Career 25th Percentile Salary                    0\n",
       "Mid-Career 75th Percentile Salary                    0\n",
       "Mid-Career 90th Percentile Salary                    0\n",
       "dtype: int64"
      ]
     },
     "execution_count": 161,
     "metadata": {},
     "output_type": "execute_result"
    }
   ],
   "source": [
    "df.isnull().sum()"
   ]
  },
  {
   "cell_type": "code",
   "execution_count": 162,
   "metadata": {},
   "outputs": [
    {
     "data": {
      "text/html": [
       "<div>\n",
       "<style scoped>\n",
       "    .dataframe tbody tr th:only-of-type {\n",
       "        vertical-align: middle;\n",
       "    }\n",
       "\n",
       "    .dataframe tbody tr th {\n",
       "        vertical-align: top;\n",
       "    }\n",
       "\n",
       "    .dataframe thead th {\n",
       "        text-align: right;\n",
       "    }\n",
       "</style>\n",
       "<table border=\"1\" class=\"dataframe\">\n",
       "  <thead>\n",
       "    <tr style=\"text-align: right;\">\n",
       "      <th></th>\n",
       "      <th>Undergraduate Major</th>\n",
       "      <th>Starting Median Salary</th>\n",
       "      <th>Mid-Career Median Salary</th>\n",
       "      <th>Percent change from Starting to Mid-Career Salary</th>\n",
       "      <th>Mid-Career 10th Percentile Salary</th>\n",
       "      <th>Mid-Career 25th Percentile Salary</th>\n",
       "      <th>Mid-Career 75th Percentile Salary</th>\n",
       "      <th>Mid-Career 90th Percentile Salary</th>\n",
       "    </tr>\n",
       "  </thead>\n",
       "  <tbody>\n",
       "    <tr>\n",
       "      <th>0</th>\n",
       "      <td>Accounting</td>\n",
       "      <td>$46,000.00</td>\n",
       "      <td>$77,100.00</td>\n",
       "      <td>67.6</td>\n",
       "      <td>$42,200.00</td>\n",
       "      <td>$56,100.00</td>\n",
       "      <td>$108,000.00</td>\n",
       "      <td>$152,000.00</td>\n",
       "    </tr>\n",
       "    <tr>\n",
       "      <th>1</th>\n",
       "      <td>Aerospace Engineering</td>\n",
       "      <td>$57,700.00</td>\n",
       "      <td>$101,000.00</td>\n",
       "      <td>75.0</td>\n",
       "      <td>$64,300.00</td>\n",
       "      <td>$82,100.00</td>\n",
       "      <td>$127,000.00</td>\n",
       "      <td>$161,000.00</td>\n",
       "    </tr>\n",
       "    <tr>\n",
       "      <th>2</th>\n",
       "      <td>Agriculture</td>\n",
       "      <td>$42,600.00</td>\n",
       "      <td>$71,900.00</td>\n",
       "      <td>68.8</td>\n",
       "      <td>$36,300.00</td>\n",
       "      <td>$52,100.00</td>\n",
       "      <td>$96,300.00</td>\n",
       "      <td>$150,000.00</td>\n",
       "    </tr>\n",
       "    <tr>\n",
       "      <th>3</th>\n",
       "      <td>Anthropology</td>\n",
       "      <td>$36,800.00</td>\n",
       "      <td>$61,500.00</td>\n",
       "      <td>67.1</td>\n",
       "      <td>$33,800.00</td>\n",
       "      <td>$45,500.00</td>\n",
       "      <td>$89,300.00</td>\n",
       "      <td>$138,000.00</td>\n",
       "    </tr>\n",
       "    <tr>\n",
       "      <th>4</th>\n",
       "      <td>Architecture</td>\n",
       "      <td>$41,600.00</td>\n",
       "      <td>$76,800.00</td>\n",
       "      <td>84.6</td>\n",
       "      <td>$50,600.00</td>\n",
       "      <td>$62,200.00</td>\n",
       "      <td>$97,000.00</td>\n",
       "      <td>$136,000.00</td>\n",
       "    </tr>\n",
       "  </tbody>\n",
       "</table>\n",
       "</div>"
      ],
      "text/plain": [
       "     Undergraduate Major Starting Median Salary Mid-Career Median Salary  \\\n",
       "0             Accounting             $46,000.00               $77,100.00   \n",
       "1  Aerospace Engineering             $57,700.00              $101,000.00   \n",
       "2            Agriculture             $42,600.00               $71,900.00   \n",
       "3           Anthropology             $36,800.00               $61,500.00   \n",
       "4           Architecture             $41,600.00               $76,800.00   \n",
       "\n",
       "   Percent change from Starting to Mid-Career Salary  \\\n",
       "0                                               67.6   \n",
       "1                                               75.0   \n",
       "2                                               68.8   \n",
       "3                                               67.1   \n",
       "4                                               84.6   \n",
       "\n",
       "  Mid-Career 10th Percentile Salary Mid-Career 25th Percentile Salary  \\\n",
       "0                        $42,200.00                        $56,100.00   \n",
       "1                        $64,300.00                        $82,100.00   \n",
       "2                        $36,300.00                        $52,100.00   \n",
       "3                        $33,800.00                        $45,500.00   \n",
       "4                        $50,600.00                        $62,200.00   \n",
       "\n",
       "  Mid-Career 75th Percentile Salary Mid-Career 90th Percentile Salary  \n",
       "0                       $108,000.00                       $152,000.00  \n",
       "1                       $127,000.00                       $161,000.00  \n",
       "2                        $96,300.00                       $150,000.00  \n",
       "3                        $89,300.00                       $138,000.00  \n",
       "4                        $97,000.00                       $136,000.00  "
      ]
     },
     "execution_count": 162,
     "metadata": {},
     "output_type": "execute_result"
    }
   ],
   "source": [
    "df.head()"
   ]
  },
  {
   "cell_type": "markdown",
   "metadata": {},
   "source": [
    "### Information:"
   ]
  },
  {
   "cell_type": "markdown",
   "metadata": {},
   "source": [
    "|field name|unit|meaning|type|\n",
    "|----------|----|-------|----|\n",
    "|Undergraduate Major |||object|\n",
    "|Starting Median Salary|U.S dollar|the median salary at the beginning of the career|object|\n",
    "|Mid-Career Median Salary|U.S dollar|the median salary at the middle career|object|\n",
    "|Percent change from Starting to Mid-Career Salary|%||object|\n",
    "|Mid-Career 10th Percentile Salary|U.S dollar|the salary higher than first 10% of workers at the middle career |float64|\n",
    "|Mid-Career 25th Percentile Salary|U.S dollar|the salary higher than first 25% of workers at the middle career|object|\n",
    "|Mid-Career 75th Percentile Salary|U.S dollar|the salary higher than first 75% of workers at the middle career|object|\n",
    "|Mid-Career 90th Percentile Salary|U.S dollar|the salary higher than first 90% of workers at the middle career|object|\n"
   ]
  },
  {
   "cell_type": "markdown",
   "metadata": {},
   "source": [
    "## Data cleaning"
   ]
  },
  {
   "cell_type": "code",
   "execution_count": 163,
   "metadata": {},
   "outputs": [
    {
     "data": {
      "text/html": [
       "<div>\n",
       "<style scoped>\n",
       "    .dataframe tbody tr th:only-of-type {\n",
       "        vertical-align: middle;\n",
       "    }\n",
       "\n",
       "    .dataframe tbody tr th {\n",
       "        vertical-align: top;\n",
       "    }\n",
       "\n",
       "    .dataframe thead th {\n",
       "        text-align: right;\n",
       "    }\n",
       "</style>\n",
       "<table border=\"1\" class=\"dataframe\">\n",
       "  <thead>\n",
       "    <tr style=\"text-align: right;\">\n",
       "      <th></th>\n",
       "      <th>Major</th>\n",
       "      <th>str_50</th>\n",
       "      <th>mid_50</th>\n",
       "      <th>percentage_str_to_mid</th>\n",
       "      <th>mid_10</th>\n",
       "      <th>mid_25</th>\n",
       "      <th>mid_75</th>\n",
       "      <th>mid_90</th>\n",
       "    </tr>\n",
       "  </thead>\n",
       "  <tbody>\n",
       "    <tr>\n",
       "      <th>0</th>\n",
       "      <td>Accounting</td>\n",
       "      <td>46000.0</td>\n",
       "      <td>77100.0</td>\n",
       "      <td>67.6</td>\n",
       "      <td>42200.0</td>\n",
       "      <td>56100.0</td>\n",
       "      <td>108000.0</td>\n",
       "      <td>152000.0</td>\n",
       "    </tr>\n",
       "    <tr>\n",
       "      <th>1</th>\n",
       "      <td>Aerospace Engineering</td>\n",
       "      <td>57700.0</td>\n",
       "      <td>101000.0</td>\n",
       "      <td>75.0</td>\n",
       "      <td>64300.0</td>\n",
       "      <td>82100.0</td>\n",
       "      <td>127000.0</td>\n",
       "      <td>161000.0</td>\n",
       "    </tr>\n",
       "    <tr>\n",
       "      <th>2</th>\n",
       "      <td>Agriculture</td>\n",
       "      <td>42600.0</td>\n",
       "      <td>71900.0</td>\n",
       "      <td>68.8</td>\n",
       "      <td>36300.0</td>\n",
       "      <td>52100.0</td>\n",
       "      <td>96300.0</td>\n",
       "      <td>150000.0</td>\n",
       "    </tr>\n",
       "    <tr>\n",
       "      <th>3</th>\n",
       "      <td>Anthropology</td>\n",
       "      <td>36800.0</td>\n",
       "      <td>61500.0</td>\n",
       "      <td>67.1</td>\n",
       "      <td>33800.0</td>\n",
       "      <td>45500.0</td>\n",
       "      <td>89300.0</td>\n",
       "      <td>138000.0</td>\n",
       "    </tr>\n",
       "    <tr>\n",
       "      <th>4</th>\n",
       "      <td>Architecture</td>\n",
       "      <td>41600.0</td>\n",
       "      <td>76800.0</td>\n",
       "      <td>84.6</td>\n",
       "      <td>50600.0</td>\n",
       "      <td>62200.0</td>\n",
       "      <td>97000.0</td>\n",
       "      <td>136000.0</td>\n",
       "    </tr>\n",
       "  </tbody>\n",
       "</table>\n",
       "</div>"
      ],
      "text/plain": [
       "                   Major   str_50    mid_50  percentage_str_to_mid   mid_10  \\\n",
       "0             Accounting  46000.0   77100.0                   67.6  42200.0   \n",
       "1  Aerospace Engineering  57700.0  101000.0                   75.0  64300.0   \n",
       "2            Agriculture  42600.0   71900.0                   68.8  36300.0   \n",
       "3           Anthropology  36800.0   61500.0                   67.1  33800.0   \n",
       "4           Architecture  41600.0   76800.0                   84.6  50600.0   \n",
       "\n",
       "    mid_25    mid_75    mid_90  \n",
       "0  56100.0  108000.0  152000.0  \n",
       "1  82100.0  127000.0  161000.0  \n",
       "2  52100.0   96300.0  150000.0  \n",
       "3  45500.0   89300.0  138000.0  \n",
       "4  62200.0   97000.0  136000.0  "
      ]
     },
     "execution_count": 163,
     "metadata": {},
     "output_type": "execute_result"
    }
   ],
   "source": [
    "df.columns=[\"Major\",\"str_50\",\"mid_50\",\"percentage_str_to_mid\",\"mid_10\",\"mid_25\",\"mid_75\",\"mid_90\"]\n",
    "col=[\"str_50\",\"mid_50\",\"mid_10\",\"mid_25\",\"mid_75\",\"mid_90\"]\n",
    "\n",
    "for x in col:\n",
    "    df[x]=df[x].str.replace('$','')\n",
    "    df[x]=df[x].str.replace(',','')\n",
    "    df[x]=pd.to_numeric(df[x])\n",
    "\n",
    "df.head()\n"
   ]
  },
  {
   "cell_type": "code",
   "execution_count": 164,
   "metadata": {},
   "outputs": [],
   "source": [
    "df.to_csv('Clean_pay_back_Data.csv')\n"
   ]
  },
  {
   "cell_type": "markdown",
   "metadata": {},
   "source": [
    "## Data(region)"
   ]
  },
  {
   "cell_type": "code",
   "execution_count": 165,
   "metadata": {},
   "outputs": [],
   "source": [
    "df1 = pd.read_csv('salaries-by-region.csv')\n"
   ]
  },
  {
   "cell_type": "code",
   "execution_count": 166,
   "metadata": {},
   "outputs": [
    {
     "data": {
      "text/plain": [
       "School Name                          object\n",
       "Region                               object\n",
       "Starting Median Salary               object\n",
       "Mid-Career Median Salary             object\n",
       "Mid-Career 10th Percentile Salary    object\n",
       "Mid-Career 25th Percentile Salary    object\n",
       "Mid-Career 75th Percentile Salary    object\n",
       "Mid-Career 90th Percentile Salary    object\n",
       "dtype: object"
      ]
     },
     "execution_count": 166,
     "metadata": {},
     "output_type": "execute_result"
    }
   ],
   "source": [
    "df1.dtypes"
   ]
  },
  {
   "cell_type": "code",
   "execution_count": 167,
   "metadata": {},
   "outputs": [
    {
     "data": {
      "text/plain": [
       "(320, 8)"
      ]
     },
     "execution_count": 167,
     "metadata": {},
     "output_type": "execute_result"
    }
   ],
   "source": [
    "df1.shape"
   ]
  },
  {
   "cell_type": "code",
   "execution_count": 168,
   "metadata": {},
   "outputs": [
    {
     "data": {
      "text/plain": [
       "School Name                           0\n",
       "Region                                0\n",
       "Starting Median Salary                0\n",
       "Mid-Career Median Salary              0\n",
       "Mid-Career 10th Percentile Salary    47\n",
       "Mid-Career 25th Percentile Salary     0\n",
       "Mid-Career 75th Percentile Salary     0\n",
       "Mid-Career 90th Percentile Salary    47\n",
       "dtype: int64"
      ]
     },
     "execution_count": 168,
     "metadata": {},
     "output_type": "execute_result"
    }
   ],
   "source": [
    "df1.isnull().sum()\n"
   ]
  },
  {
   "cell_type": "code",
   "execution_count": 169,
   "metadata": {},
   "outputs": [
    {
     "data": {
      "text/html": [
       "<div>\n",
       "<style scoped>\n",
       "    .dataframe tbody tr th:only-of-type {\n",
       "        vertical-align: middle;\n",
       "    }\n",
       "\n",
       "    .dataframe tbody tr th {\n",
       "        vertical-align: top;\n",
       "    }\n",
       "\n",
       "    .dataframe thead th {\n",
       "        text-align: right;\n",
       "    }\n",
       "</style>\n",
       "<table border=\"1\" class=\"dataframe\">\n",
       "  <thead>\n",
       "    <tr style=\"text-align: right;\">\n",
       "      <th></th>\n",
       "      <th>School Name</th>\n",
       "      <th>Region</th>\n",
       "      <th>Starting Median Salary</th>\n",
       "      <th>Mid-Career Median Salary</th>\n",
       "      <th>Mid-Career 10th Percentile Salary</th>\n",
       "      <th>Mid-Career 25th Percentile Salary</th>\n",
       "      <th>Mid-Career 75th Percentile Salary</th>\n",
       "      <th>Mid-Career 90th Percentile Salary</th>\n",
       "    </tr>\n",
       "  </thead>\n",
       "  <tbody>\n",
       "    <tr>\n",
       "      <th>0</th>\n",
       "      <td>Stanford University</td>\n",
       "      <td>California</td>\n",
       "      <td>$70,400.00</td>\n",
       "      <td>$129,000.00</td>\n",
       "      <td>$68,400.00</td>\n",
       "      <td>$93,100.00</td>\n",
       "      <td>$184,000.00</td>\n",
       "      <td>$257,000.00</td>\n",
       "    </tr>\n",
       "    <tr>\n",
       "      <th>1</th>\n",
       "      <td>California Institute of Technology (CIT)</td>\n",
       "      <td>California</td>\n",
       "      <td>$75,500.00</td>\n",
       "      <td>$123,000.00</td>\n",
       "      <td>NaN</td>\n",
       "      <td>$104,000.00</td>\n",
       "      <td>$161,000.00</td>\n",
       "      <td>NaN</td>\n",
       "    </tr>\n",
       "    <tr>\n",
       "      <th>2</th>\n",
       "      <td>Harvey Mudd College</td>\n",
       "      <td>California</td>\n",
       "      <td>$71,800.00</td>\n",
       "      <td>$122,000.00</td>\n",
       "      <td>NaN</td>\n",
       "      <td>$96,000.00</td>\n",
       "      <td>$180,000.00</td>\n",
       "      <td>NaN</td>\n",
       "    </tr>\n",
       "    <tr>\n",
       "      <th>3</th>\n",
       "      <td>University of California, Berkeley</td>\n",
       "      <td>California</td>\n",
       "      <td>$59,900.00</td>\n",
       "      <td>$112,000.00</td>\n",
       "      <td>$59,500.00</td>\n",
       "      <td>$81,000.00</td>\n",
       "      <td>$149,000.00</td>\n",
       "      <td>$201,000.00</td>\n",
       "    </tr>\n",
       "    <tr>\n",
       "      <th>4</th>\n",
       "      <td>Occidental College</td>\n",
       "      <td>California</td>\n",
       "      <td>$51,900.00</td>\n",
       "      <td>$105,000.00</td>\n",
       "      <td>NaN</td>\n",
       "      <td>$54,800.00</td>\n",
       "      <td>$157,000.00</td>\n",
       "      <td>NaN</td>\n",
       "    </tr>\n",
       "  </tbody>\n",
       "</table>\n",
       "</div>"
      ],
      "text/plain": [
       "                                School Name      Region  \\\n",
       "0                       Stanford University  California   \n",
       "1  California Institute of Technology (CIT)  California   \n",
       "2                       Harvey Mudd College  California   \n",
       "3        University of California, Berkeley  California   \n",
       "4                        Occidental College  California   \n",
       "\n",
       "  Starting Median Salary Mid-Career Median Salary  \\\n",
       "0             $70,400.00              $129,000.00   \n",
       "1             $75,500.00              $123,000.00   \n",
       "2             $71,800.00              $122,000.00   \n",
       "3             $59,900.00              $112,000.00   \n",
       "4             $51,900.00              $105,000.00   \n",
       "\n",
       "  Mid-Career 10th Percentile Salary Mid-Career 25th Percentile Salary  \\\n",
       "0                        $68,400.00                        $93,100.00   \n",
       "1                               NaN                       $104,000.00   \n",
       "2                               NaN                        $96,000.00   \n",
       "3                        $59,500.00                        $81,000.00   \n",
       "4                               NaN                        $54,800.00   \n",
       "\n",
       "  Mid-Career 75th Percentile Salary Mid-Career 90th Percentile Salary  \n",
       "0                       $184,000.00                       $257,000.00  \n",
       "1                       $161,000.00                               NaN  \n",
       "2                       $180,000.00                               NaN  \n",
       "3                       $149,000.00                       $201,000.00  \n",
       "4                       $157,000.00                               NaN  "
      ]
     },
     "execution_count": 169,
     "metadata": {},
     "output_type": "execute_result"
    }
   ],
   "source": [
    "df1.head()"
   ]
  },
  {
   "cell_type": "markdown",
   "metadata": {},
   "source": [
    "|field name|unit|meaning|type|\n",
    "|----------|----|-------|----|\n",
    "|School name|||object|\n",
    "|Region||the region of school located|object|\n",
    "|Starting Median Salary|U.S dollar|the median salary at the beginning of the career|object|\n",
    "|Mid-Career Median Salary|U.S dollar|the median salary at the middle career|object|\n",
    "|Mid-Career 10th Percentile Salary|U.S dollar|the salary higher than first 10% of workers at the middle career |float64|\n",
    "|Mid-Career 25th Percentile Salary|U.S dollar|the salary higher than first 25% of workers at the middle career|object|\n",
    "|Mid-Career 75th Percentile Salary|U.S dollar|the salary higher than first 75% of workers at the middle career|object|\n",
    "|Mid-Career 90th Percentile Salary|U.S dollar|the salary higher than first 90% of workers at the middle career|object|"
   ]
  },
  {
   "cell_type": "markdown",
   "metadata": {},
   "source": [
    "## Data Cleaning"
   ]
  },
  {
   "cell_type": "code",
   "execution_count": 170,
   "metadata": {},
   "outputs": [],
   "source": [
    "df1=df1.dropna()"
   ]
  },
  {
   "cell_type": "code",
   "execution_count": 171,
   "metadata": {
    "scrolled": true
   },
   "outputs": [
    {
     "data": {
      "text/plain": [
       "(273, 8)"
      ]
     },
     "execution_count": 171,
     "metadata": {},
     "output_type": "execute_result"
    }
   ],
   "source": [
    "df1.shape"
   ]
  },
  {
   "cell_type": "code",
   "execution_count": 172,
   "metadata": {},
   "outputs": [],
   "source": [
    "df1.columns=[\"Name\",\"Region\",\"str_50\",\"mid_50\",\"mid_10\",\"mid_25\",\"mid_75\",\"mid_90\"]\n",
    "col1=[\"str_50\",\"mid_50\",\"mid_10\",\"mid_25\",\"mid_75\",\"mid_90\"]\n",
    "\n",
    "for x in col1:\n",
    "    df1[x]=df1[x].str.replace('$','')\n",
    "    df1[x]=df1[x].str.replace(',','')\n",
    "    df1[x]=pd.to_numeric(df1[x])\n",
    "\n"
   ]
  },
  {
   "cell_type": "code",
   "execution_count": 173,
   "metadata": {},
   "outputs": [],
   "source": [
    "df1.to_csv('Clean_region_Data.csv')\n"
   ]
  },
  {
   "cell_type": "markdown",
   "metadata": {},
   "source": [
    "## Data(school type)"
   ]
  },
  {
   "cell_type": "code",
   "execution_count": 174,
   "metadata": {},
   "outputs": [],
   "source": [
    "df2=pd.read_csv('salaries-by-college-type.csv')\n"
   ]
  },
  {
   "cell_type": "code",
   "execution_count": 175,
   "metadata": {},
   "outputs": [
    {
     "data": {
      "text/plain": [
       "School Name                           0\n",
       "School Type                           0\n",
       "Starting Median Salary                0\n",
       "Mid-Career Median Salary              0\n",
       "Mid-Career 10th Percentile Salary    38\n",
       "Mid-Career 25th Percentile Salary     0\n",
       "Mid-Career 75th Percentile Salary     0\n",
       "Mid-Career 90th Percentile Salary    38\n",
       "dtype: int64"
      ]
     },
     "execution_count": 175,
     "metadata": {},
     "output_type": "execute_result"
    }
   ],
   "source": [
    "df2.isnull().sum()\n"
   ]
  },
  {
   "cell_type": "code",
   "execution_count": 176,
   "metadata": {},
   "outputs": [
    {
     "data": {
      "text/plain": [
       "School Name                          object\n",
       "School Type                          object\n",
       "Starting Median Salary               object\n",
       "Mid-Career Median Salary             object\n",
       "Mid-Career 10th Percentile Salary    object\n",
       "Mid-Career 25th Percentile Salary    object\n",
       "Mid-Career 75th Percentile Salary    object\n",
       "Mid-Career 90th Percentile Salary    object\n",
       "dtype: object"
      ]
     },
     "execution_count": 176,
     "metadata": {},
     "output_type": "execute_result"
    }
   ],
   "source": [
    "df2.dtypes"
   ]
  },
  {
   "cell_type": "code",
   "execution_count": 177,
   "metadata": {},
   "outputs": [
    {
     "data": {
      "text/plain": [
       "(50, 8)"
      ]
     },
     "execution_count": 177,
     "metadata": {},
     "output_type": "execute_result"
    }
   ],
   "source": [
    "df.shape"
   ]
  },
  {
   "cell_type": "code",
   "execution_count": 178,
   "metadata": {},
   "outputs": [
    {
     "data": {
      "text/html": [
       "<div>\n",
       "<style scoped>\n",
       "    .dataframe tbody tr th:only-of-type {\n",
       "        vertical-align: middle;\n",
       "    }\n",
       "\n",
       "    .dataframe tbody tr th {\n",
       "        vertical-align: top;\n",
       "    }\n",
       "\n",
       "    .dataframe thead th {\n",
       "        text-align: right;\n",
       "    }\n",
       "</style>\n",
       "<table border=\"1\" class=\"dataframe\">\n",
       "  <thead>\n",
       "    <tr style=\"text-align: right;\">\n",
       "      <th></th>\n",
       "      <th>School Name</th>\n",
       "      <th>School Type</th>\n",
       "      <th>Starting Median Salary</th>\n",
       "      <th>Mid-Career Median Salary</th>\n",
       "      <th>Mid-Career 10th Percentile Salary</th>\n",
       "      <th>Mid-Career 25th Percentile Salary</th>\n",
       "      <th>Mid-Career 75th Percentile Salary</th>\n",
       "      <th>Mid-Career 90th Percentile Salary</th>\n",
       "    </tr>\n",
       "  </thead>\n",
       "  <tbody>\n",
       "    <tr>\n",
       "      <th>0</th>\n",
       "      <td>Massachusetts Institute of Technology (MIT)</td>\n",
       "      <td>Engineering</td>\n",
       "      <td>$72,200.00</td>\n",
       "      <td>$126,000.00</td>\n",
       "      <td>$76,800.00</td>\n",
       "      <td>$99,200.00</td>\n",
       "      <td>$168,000.00</td>\n",
       "      <td>$220,000.00</td>\n",
       "    </tr>\n",
       "    <tr>\n",
       "      <th>1</th>\n",
       "      <td>California Institute of Technology (CIT)</td>\n",
       "      <td>Engineering</td>\n",
       "      <td>$75,500.00</td>\n",
       "      <td>$123,000.00</td>\n",
       "      <td>NaN</td>\n",
       "      <td>$104,000.00</td>\n",
       "      <td>$161,000.00</td>\n",
       "      <td>NaN</td>\n",
       "    </tr>\n",
       "    <tr>\n",
       "      <th>2</th>\n",
       "      <td>Harvey Mudd College</td>\n",
       "      <td>Engineering</td>\n",
       "      <td>$71,800.00</td>\n",
       "      <td>$122,000.00</td>\n",
       "      <td>NaN</td>\n",
       "      <td>$96,000.00</td>\n",
       "      <td>$180,000.00</td>\n",
       "      <td>NaN</td>\n",
       "    </tr>\n",
       "    <tr>\n",
       "      <th>3</th>\n",
       "      <td>Polytechnic University of New York, Brooklyn</td>\n",
       "      <td>Engineering</td>\n",
       "      <td>$62,400.00</td>\n",
       "      <td>$114,000.00</td>\n",
       "      <td>$66,800.00</td>\n",
       "      <td>$94,300.00</td>\n",
       "      <td>$143,000.00</td>\n",
       "      <td>$190,000.00</td>\n",
       "    </tr>\n",
       "    <tr>\n",
       "      <th>4</th>\n",
       "      <td>Cooper Union</td>\n",
       "      <td>Engineering</td>\n",
       "      <td>$62,200.00</td>\n",
       "      <td>$114,000.00</td>\n",
       "      <td>NaN</td>\n",
       "      <td>$80,200.00</td>\n",
       "      <td>$142,000.00</td>\n",
       "      <td>NaN</td>\n",
       "    </tr>\n",
       "  </tbody>\n",
       "</table>\n",
       "</div>"
      ],
      "text/plain": [
       "                                    School Name  School Type  \\\n",
       "0   Massachusetts Institute of Technology (MIT)  Engineering   \n",
       "1      California Institute of Technology (CIT)  Engineering   \n",
       "2                           Harvey Mudd College  Engineering   \n",
       "3  Polytechnic University of New York, Brooklyn  Engineering   \n",
       "4                                  Cooper Union  Engineering   \n",
       "\n",
       "  Starting Median Salary Mid-Career Median Salary  \\\n",
       "0             $72,200.00              $126,000.00   \n",
       "1             $75,500.00              $123,000.00   \n",
       "2             $71,800.00              $122,000.00   \n",
       "3             $62,400.00              $114,000.00   \n",
       "4             $62,200.00              $114,000.00   \n",
       "\n",
       "  Mid-Career 10th Percentile Salary Mid-Career 25th Percentile Salary  \\\n",
       "0                        $76,800.00                        $99,200.00   \n",
       "1                               NaN                       $104,000.00   \n",
       "2                               NaN                        $96,000.00   \n",
       "3                        $66,800.00                        $94,300.00   \n",
       "4                               NaN                        $80,200.00   \n",
       "\n",
       "  Mid-Career 75th Percentile Salary Mid-Career 90th Percentile Salary  \n",
       "0                       $168,000.00                       $220,000.00  \n",
       "1                       $161,000.00                               NaN  \n",
       "2                       $180,000.00                               NaN  \n",
       "3                       $143,000.00                       $190,000.00  \n",
       "4                       $142,000.00                               NaN  "
      ]
     },
     "execution_count": 178,
     "metadata": {},
     "output_type": "execute_result"
    }
   ],
   "source": [
    "df2.head()"
   ]
  },
  {
   "cell_type": "markdown",
   "metadata": {},
   "source": [
    "### Information"
   ]
  },
  {
   "cell_type": "markdown",
   "metadata": {},
   "source": [
    "|field name|unit|meaning|type|\n",
    "|----------|----|-------|----|\n",
    "|School name|||object|\n",
    "|school type||eg. Engineering, State|object|\n",
    "|Starting Median Salary|U.S dollar|the median salary at the beginning of the career|object|\n",
    "|Mid-Career Median Salary|U.S dollar|the median salary at the middle career|object|\n",
    "|Mid-Career 10th Percentile Salary|U.S dollar|the salary higher than first 10% of workers at the middle career |float64|\n",
    "|Mid-Career 25th Percentile Salary|U.S dollar|the salary higher than first 25% of workers at the middle career|object|\n",
    "|Mid-Career 75th Percentile Salary|U.S dollar|the salary higher than first 75% of workers at the middle career|object|\n",
    "|Mid-Career 90th Percentile Salary|U.S dollar|the salary higher than first 90% of workers at the middle career|object|\n"
   ]
  },
  {
   "cell_type": "markdown",
   "metadata": {},
   "source": [
    "## Data Cleaning"
   ]
  },
  {
   "cell_type": "code",
   "execution_count": 179,
   "metadata": {},
   "outputs": [],
   "source": [
    "df2=df2.dropna()"
   ]
  },
  {
   "cell_type": "code",
   "execution_count": 180,
   "metadata": {},
   "outputs": [],
   "source": [
    "df2.columns=[\"Name\",\"Type\",\"str_50\",\"mid_50\",\"mid_10\",\"mid_25\",\"mid_75\",\"mid_90\"]\n",
    "col2=[\"str_50\",\"mid_50\",\"mid_10\",\"mid_25\",\"mid_75\",\"mid_90\"]\n",
    "\n",
    "for x in col2:\n",
    "    df2[x]=df2[x].str.replace('$','')\n",
    "    df2[x]=df2[x].str.replace(',','')\n",
    "    df2[x]=pd.to_numeric(df2[x])\n",
    "\n"
   ]
  },
  {
   "cell_type": "code",
   "execution_count": 181,
   "metadata": {},
   "outputs": [],
   "source": [
    "df2.to_csv('Clean_college_Data')\n"
   ]
  },
  {
   "cell_type": "code",
   "execution_count": 182,
   "metadata": {},
   "outputs": [],
   "source": [
    "data1= pd.read_csv('Clean_college_Data')\n",
    "data2= pd.read_csv('Clean_region_Data')\n",
    "data3=pd.read_csv('Clean_pay_back_Data')"
   ]
  },
  {
   "cell_type": "code",
   "execution_count": 186,
   "metadata": {},
   "outputs": [],
   "source": [
    "data4=pd.merge(data1,data2,on=['Name'],how='inner')\n",
    "result = pd.concat([data4, data3], axis=1, sort=False)\n",
    "result.to_csv('projectdata_salary.csv')\n"
   ]
  },
  {
   "cell_type": "code",
   "execution_count": 187,
   "metadata": {},
   "outputs": [],
   "source": [
    "import pandas as pd\n",
    "df5 = pd.read_csv('projectdata_salary.csv')\n"
   ]
  },
  {
   "cell_type": "code",
   "execution_count": 188,
   "metadata": {},
   "outputs": [],
   "source": [
    "df6=df5.drop(columns=['Unnamed: 0', 'Unnamed: 0_x','Unnamed: 0.1','Unnamed: 0_y'])"
   ]
  },
  {
   "cell_type": "code",
   "execution_count": 189,
   "metadata": {},
   "outputs": [],
   "source": [
    "df6.to_csv(\"Project1_salary.csv\")\n"
   ]
  },
  {
   "cell_type": "markdown",
   "metadata": {},
   "source": [
    "## Understaning combined data"
   ]
  },
  {
   "cell_type": "code",
   "execution_count": 190,
   "metadata": {},
   "outputs": [],
   "source": [
    "import pandas as pd\n",
    "\n",
    "import numpy as np\n",
    "\n",
    "data=pd.read_csv('Project1_salary')\n"
   ]
  },
  {
   "cell_type": "code",
   "execution_count": 191,
   "metadata": {},
   "outputs": [],
   "source": [
    "del data['Unnamed: 0']"
   ]
  },
  {
   "cell_type": "code",
   "execution_count": 192,
   "metadata": {},
   "outputs": [],
   "source": [
    "data.columns=[\"Name\",\"Type\",\"str_50_type\",\"mid_50_type\",\"mid_10_type\",\"mid_25_type\",\"mid_75_type\",\"mid_90_type\",\"Region\",\"str_50_region\",\"mid_50_region\",\"mid_10_region\",\"mid_25_region\",\"mid_75_region\",\"mid_90_region\",\"Major\",\"str_50_major\",\"mid_50_major\",\"percentage_str_to_mid_major\",\"mid_10_major\",\"mid_25\",\"mid_75_major\",\"mid_90_major\"]\n"
   ]
  },
  {
   "cell_type": "code",
   "execution_count": 193,
   "metadata": {},
   "outputs": [
    {
     "data": {
      "text/plain": [
       "(224, 23)"
      ]
     },
     "execution_count": 193,
     "metadata": {},
     "output_type": "execute_result"
    }
   ],
   "source": [
    "data.shape"
   ]
  },
  {
   "cell_type": "code",
   "execution_count": 194,
   "metadata": {},
   "outputs": [
    {
     "data": {
      "text/plain": [
       "Name                            object\n",
       "Type                            object\n",
       "str_50_type                    float64\n",
       "mid_50_type                    float64\n",
       "mid_10_type                    float64\n",
       "mid_25_type                    float64\n",
       "mid_75_type                    float64\n",
       "mid_90_type                    float64\n",
       "Region                          object\n",
       "str_50_region                  float64\n",
       "mid_50_region                  float64\n",
       "mid_10_region                  float64\n",
       "mid_25_region                  float64\n",
       "mid_75_region                  float64\n",
       "mid_90_region                  float64\n",
       "Major                           object\n",
       "str_50_major                   float64\n",
       "mid_50_major                   float64\n",
       "percentage_str_to_mid_major    float64\n",
       "mid_10_major                   float64\n",
       "mid_25                         float64\n",
       "mid_75_major                   float64\n",
       "mid_90_major                   float64\n",
       "dtype: object"
      ]
     },
     "execution_count": 194,
     "metadata": {},
     "output_type": "execute_result"
    }
   ],
   "source": [
    "data.dtypes"
   ]
  },
  {
   "cell_type": "code",
   "execution_count": 195,
   "metadata": {},
   "outputs": [
    {
     "data": {
      "text/html": [
       "<div>\n",
       "<style scoped>\n",
       "    .dataframe tbody tr th:only-of-type {\n",
       "        vertical-align: middle;\n",
       "    }\n",
       "\n",
       "    .dataframe tbody tr th {\n",
       "        vertical-align: top;\n",
       "    }\n",
       "\n",
       "    .dataframe thead th {\n",
       "        text-align: right;\n",
       "    }\n",
       "</style>\n",
       "<table border=\"1\" class=\"dataframe\">\n",
       "  <thead>\n",
       "    <tr style=\"text-align: right;\">\n",
       "      <th></th>\n",
       "      <th>str_50_type</th>\n",
       "      <th>mid_50_type</th>\n",
       "      <th>mid_10_type</th>\n",
       "      <th>mid_25_type</th>\n",
       "      <th>mid_75_type</th>\n",
       "      <th>mid_90_type</th>\n",
       "      <th>str_50_region</th>\n",
       "      <th>mid_50_region</th>\n",
       "      <th>mid_10_region</th>\n",
       "      <th>mid_25_region</th>\n",
       "      <th>mid_75_region</th>\n",
       "      <th>mid_90_region</th>\n",
       "      <th>str_50_major</th>\n",
       "      <th>mid_50_major</th>\n",
       "      <th>percentage_str_to_mid_major</th>\n",
       "      <th>mid_10_major</th>\n",
       "      <th>mid_25</th>\n",
       "      <th>mid_75_major</th>\n",
       "      <th>mid_90_major</th>\n",
       "    </tr>\n",
       "  </thead>\n",
       "  <tbody>\n",
       "    <tr>\n",
       "      <th>count</th>\n",
       "      <td>224.000000</td>\n",
       "      <td>224.000000</td>\n",
       "      <td>224.000000</td>\n",
       "      <td>224.000000</td>\n",
       "      <td>224.000000</td>\n",
       "      <td>224.000000</td>\n",
       "      <td>224.000000</td>\n",
       "      <td>224.000000</td>\n",
       "      <td>224.000000</td>\n",
       "      <td>224.000000</td>\n",
       "      <td>224.000000</td>\n",
       "      <td>224.000000</td>\n",
       "      <td>50.000000</td>\n",
       "      <td>50.00000</td>\n",
       "      <td>50.000000</td>\n",
       "      <td>50.000000</td>\n",
       "      <td>50.000000</td>\n",
       "      <td>50.000000</td>\n",
       "      <td>50.000000</td>\n",
       "    </tr>\n",
       "    <tr>\n",
       "      <th>mean</th>\n",
       "      <td>45974.107143</td>\n",
       "      <td>83264.285714</td>\n",
       "      <td>44635.267857</td>\n",
       "      <td>60288.392857</td>\n",
       "      <td>114130.357143</td>\n",
       "      <td>158899.553571</td>\n",
       "      <td>45974.107143</td>\n",
       "      <td>83263.839286</td>\n",
       "      <td>44635.267857</td>\n",
       "      <td>60288.392857</td>\n",
       "      <td>114130.357143</td>\n",
       "      <td>158899.553571</td>\n",
       "      <td>44310.000000</td>\n",
       "      <td>74786.00000</td>\n",
       "      <td>69.274000</td>\n",
       "      <td>43408.000000</td>\n",
       "      <td>55988.000000</td>\n",
       "      <td>102138.000000</td>\n",
       "      <td>142766.000000</td>\n",
       "    </tr>\n",
       "    <tr>\n",
       "      <th>std</th>\n",
       "      <td>6085.213211</td>\n",
       "      <td>13633.471454</td>\n",
       "      <td>8452.815856</td>\n",
       "      <td>10569.914539</td>\n",
       "      <td>21240.019927</td>\n",
       "      <td>34446.349391</td>\n",
       "      <td>6085.213211</td>\n",
       "      <td>13633.307456</td>\n",
       "      <td>8452.815856</td>\n",
       "      <td>10569.914539</td>\n",
       "      <td>21240.019927</td>\n",
       "      <td>34446.349391</td>\n",
       "      <td>9360.866217</td>\n",
       "      <td>16088.40386</td>\n",
       "      <td>17.909908</td>\n",
       "      <td>12000.779567</td>\n",
       "      <td>13936.951911</td>\n",
       "      <td>20636.789914</td>\n",
       "      <td>27851.249267</td>\n",
       "    </tr>\n",
       "    <tr>\n",
       "      <th>min</th>\n",
       "      <td>34800.000000</td>\n",
       "      <td>58200.000000</td>\n",
       "      <td>25600.000000</td>\n",
       "      <td>40500.000000</td>\n",
       "      <td>72000.000000</td>\n",
       "      <td>91300.000000</td>\n",
       "      <td>34800.000000</td>\n",
       "      <td>58200.000000</td>\n",
       "      <td>25600.000000</td>\n",
       "      <td>40500.000000</td>\n",
       "      <td>72000.000000</td>\n",
       "      <td>91300.000000</td>\n",
       "      <td>34000.000000</td>\n",
       "      <td>52000.00000</td>\n",
       "      <td>23.400000</td>\n",
       "      <td>26700.000000</td>\n",
       "      <td>36500.000000</td>\n",
       "      <td>70500.000000</td>\n",
       "      <td>96400.000000</td>\n",
       "    </tr>\n",
       "    <tr>\n",
       "      <th>25%</th>\n",
       "      <td>42100.000000</td>\n",
       "      <td>73400.000000</td>\n",
       "      <td>39450.000000</td>\n",
       "      <td>53200.000000</td>\n",
       "      <td>100000.000000</td>\n",
       "      <td>137000.000000</td>\n",
       "      <td>42100.000000</td>\n",
       "      <td>73400.000000</td>\n",
       "      <td>39450.000000</td>\n",
       "      <td>53200.000000</td>\n",
       "      <td>100000.000000</td>\n",
       "      <td>137000.000000</td>\n",
       "      <td>37050.000000</td>\n",
       "      <td>60825.00000</td>\n",
       "      <td>59.125000</td>\n",
       "      <td>34825.000000</td>\n",
       "      <td>44975.000000</td>\n",
       "      <td>83275.000000</td>\n",
       "      <td>124250.000000</td>\n",
       "    </tr>\n",
       "    <tr>\n",
       "      <th>50%</th>\n",
       "      <td>44800.000000</td>\n",
       "      <td>81450.000000</td>\n",
       "      <td>43150.000000</td>\n",
       "      <td>58050.000000</td>\n",
       "      <td>111000.000000</td>\n",
       "      <td>153000.000000</td>\n",
       "      <td>44800.000000</td>\n",
       "      <td>81450.000000</td>\n",
       "      <td>43150.000000</td>\n",
       "      <td>58050.000000</td>\n",
       "      <td>111000.000000</td>\n",
       "      <td>153000.000000</td>\n",
       "      <td>40850.000000</td>\n",
       "      <td>72000.00000</td>\n",
       "      <td>67.800000</td>\n",
       "      <td>39400.000000</td>\n",
       "      <td>52450.000000</td>\n",
       "      <td>99400.000000</td>\n",
       "      <td>145500.000000</td>\n",
       "    </tr>\n",
       "    <tr>\n",
       "      <th>75%</th>\n",
       "      <td>47800.000000</td>\n",
       "      <td>87950.000000</td>\n",
       "      <td>47500.000000</td>\n",
       "      <td>63125.000000</td>\n",
       "      <td>121000.000000</td>\n",
       "      <td>172000.000000</td>\n",
       "      <td>47800.000000</td>\n",
       "      <td>87950.000000</td>\n",
       "      <td>47500.000000</td>\n",
       "      <td>63125.000000</td>\n",
       "      <td>121000.000000</td>\n",
       "      <td>172000.000000</td>\n",
       "      <td>49875.000000</td>\n",
       "      <td>88750.00000</td>\n",
       "      <td>82.425000</td>\n",
       "      <td>49850.000000</td>\n",
       "      <td>63700.000000</td>\n",
       "      <td>118750.000000</td>\n",
       "      <td>161750.000000</td>\n",
       "    </tr>\n",
       "    <tr>\n",
       "      <th>max</th>\n",
       "      <td>72200.000000</td>\n",
       "      <td>134000.000000</td>\n",
       "      <td>80000.000000</td>\n",
       "      <td>100000.000000</td>\n",
       "      <td>234000.000000</td>\n",
       "      <td>326000.000000</td>\n",
       "      <td>72200.000000</td>\n",
       "      <td>134000.000000</td>\n",
       "      <td>80000.000000</td>\n",
       "      <td>100000.000000</td>\n",
       "      <td>234000.000000</td>\n",
       "      <td>326000.000000</td>\n",
       "      <td>74300.000000</td>\n",
       "      <td>107000.00000</td>\n",
       "      <td>103.500000</td>\n",
       "      <td>71900.000000</td>\n",
       "      <td>87300.000000</td>\n",
       "      <td>145000.000000</td>\n",
       "      <td>210000.000000</td>\n",
       "    </tr>\n",
       "  </tbody>\n",
       "</table>\n",
       "</div>"
      ],
      "text/plain": [
       "        str_50_type    mid_50_type   mid_10_type    mid_25_type  \\\n",
       "count    224.000000     224.000000    224.000000     224.000000   \n",
       "mean   45974.107143   83264.285714  44635.267857   60288.392857   \n",
       "std     6085.213211   13633.471454   8452.815856   10569.914539   \n",
       "min    34800.000000   58200.000000  25600.000000   40500.000000   \n",
       "25%    42100.000000   73400.000000  39450.000000   53200.000000   \n",
       "50%    44800.000000   81450.000000  43150.000000   58050.000000   \n",
       "75%    47800.000000   87950.000000  47500.000000   63125.000000   \n",
       "max    72200.000000  134000.000000  80000.000000  100000.000000   \n",
       "\n",
       "         mid_75_type    mid_90_type  str_50_region  mid_50_region  \\\n",
       "count     224.000000     224.000000     224.000000     224.000000   \n",
       "mean   114130.357143  158899.553571   45974.107143   83263.839286   \n",
       "std     21240.019927   34446.349391    6085.213211   13633.307456   \n",
       "min     72000.000000   91300.000000   34800.000000   58200.000000   \n",
       "25%    100000.000000  137000.000000   42100.000000   73400.000000   \n",
       "50%    111000.000000  153000.000000   44800.000000   81450.000000   \n",
       "75%    121000.000000  172000.000000   47800.000000   87950.000000   \n",
       "max    234000.000000  326000.000000   72200.000000  134000.000000   \n",
       "\n",
       "       mid_10_region  mid_25_region  mid_75_region  mid_90_region  \\\n",
       "count     224.000000     224.000000     224.000000     224.000000   \n",
       "mean    44635.267857   60288.392857  114130.357143  158899.553571   \n",
       "std      8452.815856   10569.914539   21240.019927   34446.349391   \n",
       "min     25600.000000   40500.000000   72000.000000   91300.000000   \n",
       "25%     39450.000000   53200.000000  100000.000000  137000.000000   \n",
       "50%     43150.000000   58050.000000  111000.000000  153000.000000   \n",
       "75%     47500.000000   63125.000000  121000.000000  172000.000000   \n",
       "max     80000.000000  100000.000000  234000.000000  326000.000000   \n",
       "\n",
       "       str_50_major  mid_50_major  percentage_str_to_mid_major  mid_10_major  \\\n",
       "count     50.000000      50.00000                    50.000000     50.000000   \n",
       "mean   44310.000000   74786.00000                    69.274000  43408.000000   \n",
       "std     9360.866217   16088.40386                    17.909908  12000.779567   \n",
       "min    34000.000000   52000.00000                    23.400000  26700.000000   \n",
       "25%    37050.000000   60825.00000                    59.125000  34825.000000   \n",
       "50%    40850.000000   72000.00000                    67.800000  39400.000000   \n",
       "75%    49875.000000   88750.00000                    82.425000  49850.000000   \n",
       "max    74300.000000  107000.00000                   103.500000  71900.000000   \n",
       "\n",
       "             mid_25   mid_75_major   mid_90_major  \n",
       "count     50.000000      50.000000      50.000000  \n",
       "mean   55988.000000  102138.000000  142766.000000  \n",
       "std    13936.951911   20636.789914   27851.249267  \n",
       "min    36500.000000   70500.000000   96400.000000  \n",
       "25%    44975.000000   83275.000000  124250.000000  \n",
       "50%    52450.000000   99400.000000  145500.000000  \n",
       "75%    63700.000000  118750.000000  161750.000000  \n",
       "max    87300.000000  145000.000000  210000.000000  "
      ]
     },
     "execution_count": 195,
     "metadata": {},
     "output_type": "execute_result"
    }
   ],
   "source": [
    "data.describe()\n"
   ]
  },
  {
   "cell_type": "code",
   "execution_count": 196,
   "metadata": {},
   "outputs": [],
   "source": [
    "data.to_csv(\"project1_salary(clean).csv\")"
   ]
  },
  {
   "cell_type": "code",
   "execution_count": 197,
   "metadata": {},
   "outputs": [],
   "source": [
    "data=pd.read_csv('project1_salary(clean).csv')"
   ]
  },
  {
   "cell_type": "markdown",
   "metadata": {},
   "source": [
    "## Analysis"
   ]
  },
  {
   "cell_type": "code",
   "execution_count": 198,
   "metadata": {},
   "outputs": [],
   "source": [
    "outcome1=data.groupby('Type')['str_50_type'].mean().reset_index()\n",
    "outcome2=data.groupby('Type')['mid_50_type'].mean().reset_index()\n",
    "\n"
   ]
  },
  {
   "cell_type": "code",
   "execution_count": 199,
   "metadata": {},
   "outputs": [
    {
     "data": {
      "text/html": [
       "<div>\n",
       "<style scoped>\n",
       "    .dataframe tbody tr th:only-of-type {\n",
       "        vertical-align: middle;\n",
       "    }\n",
       "\n",
       "    .dataframe tbody tr th {\n",
       "        vertical-align: top;\n",
       "    }\n",
       "\n",
       "    .dataframe thead th {\n",
       "        text-align: right;\n",
       "    }\n",
       "</style>\n",
       "<table border=\"1\" class=\"dataframe\">\n",
       "  <thead>\n",
       "    <tr style=\"text-align: right;\">\n",
       "      <th></th>\n",
       "      <th>Type</th>\n",
       "      <th>str_50_type</th>\n",
       "      <th>mid_50_type</th>\n",
       "      <th>ratio</th>\n",
       "    </tr>\n",
       "  </thead>\n",
       "  <tbody>\n",
       "    <tr>\n",
       "      <th>1</th>\n",
       "      <td>Ivy League</td>\n",
       "      <td>60475.000000</td>\n",
       "      <td>120125.000000</td>\n",
       "      <td>0.986358</td>\n",
       "    </tr>\n",
       "    <tr>\n",
       "      <th>2</th>\n",
       "      <td>Liberal Arts</td>\n",
       "      <td>46171.428571</td>\n",
       "      <td>89635.714286</td>\n",
       "      <td>0.941368</td>\n",
       "    </tr>\n",
       "    <tr>\n",
       "      <th>3</th>\n",
       "      <td>Party</td>\n",
       "      <td>45878.947368</td>\n",
       "      <td>84742.105263</td>\n",
       "      <td>0.847080</td>\n",
       "    </tr>\n",
       "    <tr>\n",
       "      <th>4</th>\n",
       "      <td>State</td>\n",
       "      <td>44304.142012</td>\n",
       "      <td>79202.958580</td>\n",
       "      <td>0.787710</td>\n",
       "    </tr>\n",
       "    <tr>\n",
       "      <th>0</th>\n",
       "      <td>Engineering</td>\n",
       "      <td>57778.571429</td>\n",
       "      <td>102850.000000</td>\n",
       "      <td>0.780072</td>\n",
       "    </tr>\n",
       "  </tbody>\n",
       "</table>\n",
       "</div>"
      ],
      "text/plain": [
       "           Type   str_50_type    mid_50_type     ratio\n",
       "1    Ivy League  60475.000000  120125.000000  0.986358\n",
       "2  Liberal Arts  46171.428571   89635.714286  0.941368\n",
       "3         Party  45878.947368   84742.105263  0.847080\n",
       "4         State  44304.142012   79202.958580  0.787710\n",
       "0   Engineering  57778.571429  102850.000000  0.780072"
      ]
     },
     "execution_count": 199,
     "metadata": {},
     "output_type": "execute_result"
    }
   ],
   "source": [
    "pd.merge(outcome1,outcome2,on=['Type'],how='inner').assign(ratio = lambda x: \n",
    "(x['mid_50_type']-\n",
    "x['str_50_type'])/x['str_50_type']).sort_values(by='ratio',ascending=False)"
   ]
  },
  {
   "cell_type": "code",
   "execution_count": 200,
   "metadata": {},
   "outputs": [],
   "source": [
    "outcome3=data.groupby('Region')['str_50_type'].mean().reset_index()\n",
    "outcome4=data.groupby('Region')['mid_50_type'].mean().reset_index()\n"
   ]
  },
  {
   "cell_type": "code",
   "execution_count": 201,
   "metadata": {},
   "outputs": [
    {
     "data": {
      "text/html": [
       "<div>\n",
       "<style scoped>\n",
       "    .dataframe tbody tr th:only-of-type {\n",
       "        vertical-align: middle;\n",
       "    }\n",
       "\n",
       "    .dataframe tbody tr th {\n",
       "        vertical-align: top;\n",
       "    }\n",
       "\n",
       "    .dataframe thead th {\n",
       "        text-align: right;\n",
       "    }\n",
       "</style>\n",
       "<table border=\"1\" class=\"dataframe\">\n",
       "  <thead>\n",
       "    <tr style=\"text-align: right;\">\n",
       "      <th></th>\n",
       "      <th>Region</th>\n",
       "      <th>str_50_type</th>\n",
       "      <th>mid_50_type</th>\n",
       "      <th>ratio</th>\n",
       "    </tr>\n",
       "  </thead>\n",
       "  <tbody>\n",
       "    <tr>\n",
       "      <th>2</th>\n",
       "      <td>Northeastern</td>\n",
       "      <td>49823.076923</td>\n",
       "      <td>93603.846154</td>\n",
       "      <td>0.878725</td>\n",
       "    </tr>\n",
       "    <tr>\n",
       "      <th>0</th>\n",
       "      <td>California</td>\n",
       "      <td>48900.000000</td>\n",
       "      <td>89723.809524</td>\n",
       "      <td>0.834843</td>\n",
       "    </tr>\n",
       "    <tr>\n",
       "      <th>3</th>\n",
       "      <td>Southern</td>\n",
       "      <td>44246.031746</td>\n",
       "      <td>79538.095238</td>\n",
       "      <td>0.797632</td>\n",
       "    </tr>\n",
       "    <tr>\n",
       "      <th>4</th>\n",
       "      <td>Western</td>\n",
       "      <td>44651.612903</td>\n",
       "      <td>79590.322581</td>\n",
       "      <td>0.782474</td>\n",
       "    </tr>\n",
       "    <tr>\n",
       "      <th>1</th>\n",
       "      <td>Midwestern</td>\n",
       "      <td>44014.035088</td>\n",
       "      <td>77568.421053</td>\n",
       "      <td>0.762357</td>\n",
       "    </tr>\n",
       "  </tbody>\n",
       "</table>\n",
       "</div>"
      ],
      "text/plain": [
       "         Region   str_50_type   mid_50_type     ratio\n",
       "2  Northeastern  49823.076923  93603.846154  0.878725\n",
       "0    California  48900.000000  89723.809524  0.834843\n",
       "3      Southern  44246.031746  79538.095238  0.797632\n",
       "4       Western  44651.612903  79590.322581  0.782474\n",
       "1    Midwestern  44014.035088  77568.421053  0.762357"
      ]
     },
     "execution_count": 201,
     "metadata": {},
     "output_type": "execute_result"
    }
   ],
   "source": [
    "pd.merge(outcome3,outcome4,on=['Region'],how='inner').assign(ratio = lambda x: \n",
    "(x['mid_50_type']-\n",
    "x['str_50_type'])/x['str_50_type']).sort_values(by='ratio',ascending=False)\n",
    "\n"
   ]
  },
  {
   "cell_type": "code",
   "execution_count": 202,
   "metadata": {},
   "outputs": [],
   "source": [
    "outcome5=data.groupby('Major')['str_50_type'].mean().reset_index()\n",
    "outcome6=data.groupby('Major')['mid_50_type'].mean().reset_index()"
   ]
  },
  {
   "cell_type": "code",
   "execution_count": 203,
   "metadata": {},
   "outputs": [
    {
     "data": {
      "text/html": [
       "<div>\n",
       "<style scoped>\n",
       "    .dataframe tbody tr th:only-of-type {\n",
       "        vertical-align: middle;\n",
       "    }\n",
       "\n",
       "    .dataframe tbody tr th {\n",
       "        vertical-align: top;\n",
       "    }\n",
       "\n",
       "    .dataframe thead th {\n",
       "        text-align: right;\n",
       "    }\n",
       "</style>\n",
       "<table border=\"1\" class=\"dataframe\">\n",
       "  <thead>\n",
       "    <tr style=\"text-align: right;\">\n",
       "      <th></th>\n",
       "      <th>Major</th>\n",
       "      <th>str_50_type</th>\n",
       "    </tr>\n",
       "  </thead>\n",
       "  <tbody>\n",
       "    <tr>\n",
       "      <th>0</th>\n",
       "      <td>Accounting</td>\n",
       "      <td>72200.0</td>\n",
       "    </tr>\n",
       "    <tr>\n",
       "      <th>1</th>\n",
       "      <td>Aerospace Engineering</td>\n",
       "      <td>62400.0</td>\n",
       "    </tr>\n",
       "    <tr>\n",
       "      <th>2</th>\n",
       "      <td>Agriculture</td>\n",
       "      <td>61000.0</td>\n",
       "    </tr>\n",
       "    <tr>\n",
       "      <th>3</th>\n",
       "      <td>Anthropology</td>\n",
       "      <td>61800.0</td>\n",
       "    </tr>\n",
       "    <tr>\n",
       "      <th>4</th>\n",
       "      <td>Architecture</td>\n",
       "      <td>61100.0</td>\n",
       "    </tr>\n",
       "  </tbody>\n",
       "</table>\n",
       "</div>"
      ],
      "text/plain": [
       "                   Major  str_50_type\n",
       "0             Accounting      72200.0\n",
       "1  Aerospace Engineering      62400.0\n",
       "2            Agriculture      61000.0\n",
       "3           Anthropology      61800.0\n",
       "4           Architecture      61100.0"
      ]
     },
     "execution_count": 203,
     "metadata": {},
     "output_type": "execute_result"
    }
   ],
   "source": [
    "outcome5.head(5)"
   ]
  },
  {
   "cell_type": "code",
   "execution_count": 204,
   "metadata": {
    "scrolled": true
   },
   "outputs": [
    {
     "data": {
      "text/html": [
       "<div>\n",
       "<style scoped>\n",
       "    .dataframe tbody tr th:only-of-type {\n",
       "        vertical-align: middle;\n",
       "    }\n",
       "\n",
       "    .dataframe tbody tr th {\n",
       "        vertical-align: top;\n",
       "    }\n",
       "\n",
       "    .dataframe thead th {\n",
       "        text-align: right;\n",
       "    }\n",
       "</style>\n",
       "<table border=\"1\" class=\"dataframe\">\n",
       "  <thead>\n",
       "    <tr style=\"text-align: right;\">\n",
       "      <th></th>\n",
       "      <th>Major</th>\n",
       "      <th>mid_50_type</th>\n",
       "    </tr>\n",
       "  </thead>\n",
       "  <tbody>\n",
       "    <tr>\n",
       "      <th>0</th>\n",
       "      <td>Accounting</td>\n",
       "      <td>126000.0</td>\n",
       "    </tr>\n",
       "    <tr>\n",
       "      <th>1</th>\n",
       "      <td>Aerospace Engineering</td>\n",
       "      <td>114000.0</td>\n",
       "    </tr>\n",
       "    <tr>\n",
       "      <th>2</th>\n",
       "      <td>Agriculture</td>\n",
       "      <td>114000.0</td>\n",
       "    </tr>\n",
       "    <tr>\n",
       "      <th>3</th>\n",
       "      <td>Anthropology</td>\n",
       "      <td>111000.0</td>\n",
       "    </tr>\n",
       "    <tr>\n",
       "      <th>4</th>\n",
       "      <td>Architecture</td>\n",
       "      <td>110000.0</td>\n",
       "    </tr>\n",
       "  </tbody>\n",
       "</table>\n",
       "</div>"
      ],
      "text/plain": [
       "                   Major  mid_50_type\n",
       "0             Accounting     126000.0\n",
       "1  Aerospace Engineering     114000.0\n",
       "2            Agriculture     114000.0\n",
       "3           Anthropology     111000.0\n",
       "4           Architecture     110000.0"
      ]
     },
     "execution_count": 204,
     "metadata": {},
     "output_type": "execute_result"
    }
   ],
   "source": [
    "outcome6.head(5)"
   ]
  },
  {
   "cell_type": "markdown",
   "metadata": {},
   "source": []
  },
  {
   "cell_type": "code",
   "execution_count": 205,
   "metadata": {
    "scrolled": true
   },
   "outputs": [
    {
     "data": {
      "text/html": [
       "<div>\n",
       "<style scoped>\n",
       "    .dataframe tbody tr th:only-of-type {\n",
       "        vertical-align: middle;\n",
       "    }\n",
       "\n",
       "    .dataframe tbody tr th {\n",
       "        vertical-align: top;\n",
       "    }\n",
       "\n",
       "    .dataframe thead th {\n",
       "        text-align: right;\n",
       "    }\n",
       "</style>\n",
       "<table border=\"1\" class=\"dataframe\">\n",
       "  <thead>\n",
       "    <tr style=\"text-align: right;\">\n",
       "      <th></th>\n",
       "      <th>Major</th>\n",
       "      <th>str_50_type</th>\n",
       "      <th>mid_50_type</th>\n",
       "      <th>percentage_str_to_mid_major</th>\n",
       "    </tr>\n",
       "  </thead>\n",
       "  <tbody>\n",
       "    <tr>\n",
       "      <th>37</th>\n",
       "      <td>Math</td>\n",
       "      <td>44700.0</td>\n",
       "      <td>83900.0</td>\n",
       "      <td>103.5</td>\n",
       "    </tr>\n",
       "    <tr>\n",
       "      <th>42</th>\n",
       "      <td>Philosophy</td>\n",
       "      <td>41800.0</td>\n",
       "      <td>78300.0</td>\n",
       "      <td>103.5</td>\n",
       "    </tr>\n",
       "    <tr>\n",
       "      <th>33</th>\n",
       "      <td>International Relations</td>\n",
       "      <td>47400.0</td>\n",
       "      <td>84100.0</td>\n",
       "      <td>97.8</td>\n",
       "    </tr>\n",
       "    <tr>\n",
       "      <th>17</th>\n",
       "      <td>Economics</td>\n",
       "      <td>52000.0</td>\n",
       "      <td>95000.0</td>\n",
       "      <td>96.8</td>\n",
       "    </tr>\n",
       "    <tr>\n",
       "      <th>36</th>\n",
       "      <td>Marketing</td>\n",
       "      <td>44700.0</td>\n",
       "      <td>83900.0</td>\n",
       "      <td>95.1</td>\n",
       "    </tr>\n",
       "    <tr>\n",
       "      <th>44</th>\n",
       "      <td>Physics</td>\n",
       "      <td>43100.0</td>\n",
       "      <td>78100.0</td>\n",
       "      <td>93.4</td>\n",
       "    </tr>\n",
       "    <tr>\n",
       "      <th>45</th>\n",
       "      <td>Political Science</td>\n",
       "      <td>43100.0</td>\n",
       "      <td>78100.0</td>\n",
       "      <td>91.7</td>\n",
       "    </tr>\n",
       "    <tr>\n",
       "      <th>9</th>\n",
       "      <td>Chemistry</td>\n",
       "      <td>53000.0</td>\n",
       "      <td>96700.0</td>\n",
       "      <td>87.6</td>\n",
       "    </tr>\n",
       "    <tr>\n",
       "      <th>34</th>\n",
       "      <td>Journalism</td>\n",
       "      <td>46300.0</td>\n",
       "      <td>84000.0</td>\n",
       "      <td>87.4</td>\n",
       "    </tr>\n",
       "    <tr>\n",
       "      <th>4</th>\n",
       "      <td>Architecture</td>\n",
       "      <td>61100.0</td>\n",
       "      <td>110000.0</td>\n",
       "      <td>84.6</td>\n",
       "    </tr>\n",
       "  </tbody>\n",
       "</table>\n",
       "</div>"
      ],
      "text/plain": [
       "                      Major  str_50_type  mid_50_type  \\\n",
       "37                     Math      44700.0      83900.0   \n",
       "42               Philosophy      41800.0      78300.0   \n",
       "33  International Relations      47400.0      84100.0   \n",
       "17                Economics      52000.0      95000.0   \n",
       "36                Marketing      44700.0      83900.0   \n",
       "44                  Physics      43100.0      78100.0   \n",
       "45        Political Science      43100.0      78100.0   \n",
       "9                 Chemistry      53000.0      96700.0   \n",
       "34               Journalism      46300.0      84000.0   \n",
       "4              Architecture      61100.0     110000.0   \n",
       "\n",
       "    percentage_str_to_mid_major  \n",
       "37                        103.5  \n",
       "42                        103.5  \n",
       "33                         97.8  \n",
       "17                         96.8  \n",
       "36                         95.1  \n",
       "44                         93.4  \n",
       "45                         91.7  \n",
       "9                          87.6  \n",
       "34                         87.4  \n",
       "4                          84.6  "
      ]
     },
     "execution_count": 205,
     "metadata": {},
     "output_type": "execute_result"
    }
   ],
   "source": [
    "pd.merge(outcome5,outcome6,on=['Major'],how='inner')\n",
    "outcome7=data.groupby(data['Major'])['percentage_str_to_mid_major'].mean()\n",
    "\n",
    "result2=pd.merge(outcome5,outcome6,on=['Major'],how='inner')\n",
    "pd.merge(result2,outcome7,on=\n",
    "['Major'],how='inner').sort_values(by='percentage_str_to_mid_major', ascending = \n",
    "False).head(10)"
   ]
  },
  {
   "cell_type": "code",
   "execution_count": 206,
   "metadata": {},
   "outputs": [
    {
     "data": {
      "text/html": [
       "<div>\n",
       "<style scoped>\n",
       "    .dataframe tbody tr th:only-of-type {\n",
       "        vertical-align: middle;\n",
       "    }\n",
       "\n",
       "    .dataframe tbody tr th {\n",
       "        vertical-align: top;\n",
       "    }\n",
       "\n",
       "    .dataframe thead th {\n",
       "        text-align: right;\n",
       "    }\n",
       "</style>\n",
       "<table border=\"1\" class=\"dataframe\">\n",
       "  <thead>\n",
       "    <tr style=\"text-align: right;\">\n",
       "      <th></th>\n",
       "      <th>Major</th>\n",
       "      <th>str_50_type</th>\n",
       "      <th>mid_50_type</th>\n",
       "      <th>percentage_str_to_mid_major</th>\n",
       "    </tr>\n",
       "  </thead>\n",
       "  <tbody>\n",
       "    <tr>\n",
       "      <th>49</th>\n",
       "      <td>Spanish</td>\n",
       "      <td>42200.0</td>\n",
       "      <td>73400.0</td>\n",
       "      <td>56.2</td>\n",
       "    </tr>\n",
       "    <tr>\n",
       "      <th>39</th>\n",
       "      <td>Music</td>\n",
       "      <td>41300.0</td>\n",
       "      <td>81400.0</td>\n",
       "      <td>53.2</td>\n",
       "    </tr>\n",
       "    <tr>\n",
       "      <th>47</th>\n",
       "      <td>Religion</td>\n",
       "      <td>43800.0</td>\n",
       "      <td>74600.0</td>\n",
       "      <td>52.5</td>\n",
       "    </tr>\n",
       "    <tr>\n",
       "      <th>31</th>\n",
       "      <td>Information Technology (IT)</td>\n",
       "      <td>49900.0</td>\n",
       "      <td>85700.0</td>\n",
       "      <td>52.3</td>\n",
       "    </tr>\n",
       "    <tr>\n",
       "      <th>29</th>\n",
       "      <td>Hospitality &amp; Tourism</td>\n",
       "      <td>44100.0</td>\n",
       "      <td>86000.0</td>\n",
       "      <td>52.1</td>\n",
       "    </tr>\n",
       "    <tr>\n",
       "      <th>18</th>\n",
       "      <td>Education</td>\n",
       "      <td>50500.0</td>\n",
       "      <td>95000.0</td>\n",
       "      <td>49.0</td>\n",
       "    </tr>\n",
       "    <tr>\n",
       "      <th>32</th>\n",
       "      <td>Interior Design</td>\n",
       "      <td>47400.0</td>\n",
       "      <td>84100.0</td>\n",
       "      <td>47.4</td>\n",
       "    </tr>\n",
       "    <tr>\n",
       "      <th>41</th>\n",
       "      <td>Nutrition</td>\n",
       "      <td>41400.0</td>\n",
       "      <td>79700.0</td>\n",
       "      <td>38.6</td>\n",
       "    </tr>\n",
       "    <tr>\n",
       "      <th>40</th>\n",
       "      <td>Nursing</td>\n",
       "      <td>41400.0</td>\n",
       "      <td>79700.0</td>\n",
       "      <td>23.6</td>\n",
       "    </tr>\n",
       "    <tr>\n",
       "      <th>43</th>\n",
       "      <td>Physician Assistant</td>\n",
       "      <td>41800.0</td>\n",
       "      <td>78300.0</td>\n",
       "      <td>23.4</td>\n",
       "    </tr>\n",
       "  </tbody>\n",
       "</table>\n",
       "</div>"
      ],
      "text/plain": [
       "                          Major  str_50_type  mid_50_type  \\\n",
       "49                      Spanish      42200.0      73400.0   \n",
       "39                        Music      41300.0      81400.0   \n",
       "47                     Religion      43800.0      74600.0   \n",
       "31  Information Technology (IT)      49900.0      85700.0   \n",
       "29        Hospitality & Tourism      44100.0      86000.0   \n",
       "18                    Education      50500.0      95000.0   \n",
       "32              Interior Design      47400.0      84100.0   \n",
       "41                    Nutrition      41400.0      79700.0   \n",
       "40                      Nursing      41400.0      79700.0   \n",
       "43          Physician Assistant      41800.0      78300.0   \n",
       "\n",
       "    percentage_str_to_mid_major  \n",
       "49                         56.2  \n",
       "39                         53.2  \n",
       "47                         52.5  \n",
       "31                         52.3  \n",
       "29                         52.1  \n",
       "18                         49.0  \n",
       "32                         47.4  \n",
       "41                         38.6  \n",
       "40                         23.6  \n",
       "43                         23.4  "
      ]
     },
     "execution_count": 206,
     "metadata": {},
     "output_type": "execute_result"
    }
   ],
   "source": [
    "pd.merge(result2,outcome7,on=\n",
    "['Major'],how='inner').sort_values(by='percentage_str_to_mid_major', ascending = \n",
    "False).tail(10)"
   ]
  }
 ],
 "metadata": {
  "kernelspec": {
   "display_name": "Python 3",
   "language": "python",
   "name": "python3"
  },
  "language_info": {
   "codemirror_mode": {
    "name": "ipython",
    "version": 3
   },
   "file_extension": ".py",
   "mimetype": "text/x-python",
   "name": "python",
   "nbconvert_exporter": "python",
   "pygments_lexer": "ipython3",
   "version": "3.8.3"
  }
 },
 "nbformat": 4,
 "nbformat_minor": 4
}
