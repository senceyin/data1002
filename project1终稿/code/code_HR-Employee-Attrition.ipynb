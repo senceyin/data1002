{
 "cells": [
  {
   "cell_type": "markdown",
   "metadata": {},
   "source": [
    "## Import python libraries"
   ]
  },
  {
   "cell_type": "code",
   "execution_count": 1,
   "metadata": {},
   "outputs": [],
   "source": [
    "import pandas as pd\n",
    "# import matplotlib.pyplot as plt "
   ]
  },
  {
   "cell_type": "markdown",
   "metadata": {},
   "source": [
    "## Read in data and have a glimpse of the dataset"
   ]
  },
  {
   "cell_type": "code",
   "execution_count": 2,
   "metadata": {
    "scrolled": false
   },
   "outputs": [
    {
     "data": {
      "text/html": [
       "<div>\n",
       "<style scoped>\n",
       "    .dataframe tbody tr th:only-of-type {\n",
       "        vertical-align: middle;\n",
       "    }\n",
       "\n",
       "    .dataframe tbody tr th {\n",
       "        vertical-align: top;\n",
       "    }\n",
       "\n",
       "    .dataframe thead th {\n",
       "        text-align: right;\n",
       "    }\n",
       "</style>\n",
       "<table border=\"1\" class=\"dataframe\">\n",
       "  <thead>\n",
       "    <tr style=\"text-align: right;\">\n",
       "      <th></th>\n",
       "      <th>Age</th>\n",
       "      <th>Attrition</th>\n",
       "      <th>BusinessTravel</th>\n",
       "      <th>DailyRate</th>\n",
       "      <th>Department</th>\n",
       "      <th>DistanceFromHome</th>\n",
       "      <th>Education</th>\n",
       "      <th>EducationField</th>\n",
       "      <th>EmployeeCount</th>\n",
       "      <th>EmployeeNumber</th>\n",
       "      <th>...</th>\n",
       "      <th>RelationshipSatisfaction</th>\n",
       "      <th>StandardHours</th>\n",
       "      <th>StockOptionLevel</th>\n",
       "      <th>TotalWorkingYears</th>\n",
       "      <th>TrainingTimesLastYear</th>\n",
       "      <th>WorkLifeBalance</th>\n",
       "      <th>YearsAtCompany</th>\n",
       "      <th>YearsInCurrentRole</th>\n",
       "      <th>YearsSinceLastPromotion</th>\n",
       "      <th>YearsWithCurrManager</th>\n",
       "    </tr>\n",
       "  </thead>\n",
       "  <tbody>\n",
       "    <tr>\n",
       "      <th>0</th>\n",
       "      <td>41</td>\n",
       "      <td>Yes</td>\n",
       "      <td>Travel_Rarely</td>\n",
       "      <td>1102</td>\n",
       "      <td>Sales</td>\n",
       "      <td>1</td>\n",
       "      <td>2</td>\n",
       "      <td>Life Sciences</td>\n",
       "      <td>1</td>\n",
       "      <td>1</td>\n",
       "      <td>...</td>\n",
       "      <td>1</td>\n",
       "      <td>80</td>\n",
       "      <td>0</td>\n",
       "      <td>8</td>\n",
       "      <td>0</td>\n",
       "      <td>1</td>\n",
       "      <td>6</td>\n",
       "      <td>4</td>\n",
       "      <td>0</td>\n",
       "      <td>5</td>\n",
       "    </tr>\n",
       "    <tr>\n",
       "      <th>1</th>\n",
       "      <td>49</td>\n",
       "      <td>No</td>\n",
       "      <td>Travel_Frequently</td>\n",
       "      <td>279</td>\n",
       "      <td>Research &amp; Development</td>\n",
       "      <td>8</td>\n",
       "      <td>1</td>\n",
       "      <td>Life Sciences</td>\n",
       "      <td>1</td>\n",
       "      <td>2</td>\n",
       "      <td>...</td>\n",
       "      <td>4</td>\n",
       "      <td>80</td>\n",
       "      <td>1</td>\n",
       "      <td>10</td>\n",
       "      <td>3</td>\n",
       "      <td>3</td>\n",
       "      <td>10</td>\n",
       "      <td>7</td>\n",
       "      <td>1</td>\n",
       "      <td>7</td>\n",
       "    </tr>\n",
       "    <tr>\n",
       "      <th>2</th>\n",
       "      <td>37</td>\n",
       "      <td>Yes</td>\n",
       "      <td>Travel_Rarely</td>\n",
       "      <td>1373</td>\n",
       "      <td>Research &amp; Development</td>\n",
       "      <td>2</td>\n",
       "      <td>2</td>\n",
       "      <td>Other</td>\n",
       "      <td>1</td>\n",
       "      <td>4</td>\n",
       "      <td>...</td>\n",
       "      <td>2</td>\n",
       "      <td>80</td>\n",
       "      <td>0</td>\n",
       "      <td>7</td>\n",
       "      <td>3</td>\n",
       "      <td>3</td>\n",
       "      <td>0</td>\n",
       "      <td>0</td>\n",
       "      <td>0</td>\n",
       "      <td>0</td>\n",
       "    </tr>\n",
       "    <tr>\n",
       "      <th>3</th>\n",
       "      <td>33</td>\n",
       "      <td>No</td>\n",
       "      <td>Travel_Frequently</td>\n",
       "      <td>1392</td>\n",
       "      <td>Research &amp; Development</td>\n",
       "      <td>3</td>\n",
       "      <td>4</td>\n",
       "      <td>Life Sciences</td>\n",
       "      <td>1</td>\n",
       "      <td>5</td>\n",
       "      <td>...</td>\n",
       "      <td>3</td>\n",
       "      <td>80</td>\n",
       "      <td>0</td>\n",
       "      <td>8</td>\n",
       "      <td>3</td>\n",
       "      <td>3</td>\n",
       "      <td>8</td>\n",
       "      <td>7</td>\n",
       "      <td>3</td>\n",
       "      <td>0</td>\n",
       "    </tr>\n",
       "    <tr>\n",
       "      <th>4</th>\n",
       "      <td>27</td>\n",
       "      <td>No</td>\n",
       "      <td>Travel_Rarely</td>\n",
       "      <td>591</td>\n",
       "      <td>Research &amp; Development</td>\n",
       "      <td>2</td>\n",
       "      <td>1</td>\n",
       "      <td>Medical</td>\n",
       "      <td>1</td>\n",
       "      <td>7</td>\n",
       "      <td>...</td>\n",
       "      <td>4</td>\n",
       "      <td>80</td>\n",
       "      <td>1</td>\n",
       "      <td>6</td>\n",
       "      <td>3</td>\n",
       "      <td>3</td>\n",
       "      <td>2</td>\n",
       "      <td>2</td>\n",
       "      <td>2</td>\n",
       "      <td>2</td>\n",
       "    </tr>\n",
       "  </tbody>\n",
       "</table>\n",
       "<p>5 rows × 35 columns</p>\n",
       "</div>"
      ],
      "text/plain": [
       "   Age Attrition     BusinessTravel  DailyRate              Department  \\\n",
       "0   41       Yes      Travel_Rarely       1102                   Sales   \n",
       "1   49        No  Travel_Frequently        279  Research & Development   \n",
       "2   37       Yes      Travel_Rarely       1373  Research & Development   \n",
       "3   33        No  Travel_Frequently       1392  Research & Development   \n",
       "4   27        No      Travel_Rarely        591  Research & Development   \n",
       "\n",
       "   DistanceFromHome  Education EducationField  EmployeeCount  EmployeeNumber  \\\n",
       "0                 1          2  Life Sciences              1               1   \n",
       "1                 8          1  Life Sciences              1               2   \n",
       "2                 2          2          Other              1               4   \n",
       "3                 3          4  Life Sciences              1               5   \n",
       "4                 2          1        Medical              1               7   \n",
       "\n",
       "   ...  RelationshipSatisfaction StandardHours  StockOptionLevel  \\\n",
       "0  ...                         1            80                 0   \n",
       "1  ...                         4            80                 1   \n",
       "2  ...                         2            80                 0   \n",
       "3  ...                         3            80                 0   \n",
       "4  ...                         4            80                 1   \n",
       "\n",
       "   TotalWorkingYears  TrainingTimesLastYear WorkLifeBalance  YearsAtCompany  \\\n",
       "0                  8                      0               1               6   \n",
       "1                 10                      3               3              10   \n",
       "2                  7                      3               3               0   \n",
       "3                  8                      3               3               8   \n",
       "4                  6                      3               3               2   \n",
       "\n",
       "  YearsInCurrentRole  YearsSinceLastPromotion  YearsWithCurrManager  \n",
       "0                  4                        0                     5  \n",
       "1                  7                        1                     7  \n",
       "2                  0                        0                     0  \n",
       "3                  7                        3                     0  \n",
       "4                  2                        2                     2  \n",
       "\n",
       "[5 rows x 35 columns]"
      ]
     },
     "execution_count": 2,
     "metadata": {},
     "output_type": "execute_result"
    }
   ],
   "source": [
    "df_HR_Employee_Attrition = pd.read_csv('HR-Employee-Attrition.csv') \n",
    "df_HR_Employee_Attrition.head()\n",
    " "
   ]
  },
  {
   "cell_type": "markdown",
   "metadata": {},
   "source": [
    "## Check the shape of the dataset"
   ]
  },
  {
   "cell_type": "code",
   "execution_count": 3,
   "metadata": {},
   "outputs": [
    {
     "data": {
      "text/plain": [
       "(1470, 35)"
      ]
     },
     "execution_count": 3,
     "metadata": {},
     "output_type": "execute_result"
    }
   ],
   "source": [
    "df_HR_Employee_Attrition.shape"
   ]
  },
  {
   "cell_type": "markdown",
   "metadata": {},
   "source": [
    "## Check the datatypes of the dataframe"
   ]
  },
  {
   "cell_type": "code",
   "execution_count": 4,
   "metadata": {
    "scrolled": false
   },
   "outputs": [
    {
     "data": {
      "text/plain": [
       "Age                          int64\n",
       "Attrition                   object\n",
       "BusinessTravel              object\n",
       "DailyRate                    int64\n",
       "Department                  object\n",
       "DistanceFromHome             int64\n",
       "Education                    int64\n",
       "EducationField              object\n",
       "EmployeeCount                int64\n",
       "EmployeeNumber               int64\n",
       "EnvironmentSatisfaction      int64\n",
       "Gender                      object\n",
       "HourlyRate                   int64\n",
       "JobInvolvement               int64\n",
       "JobLevel                     int64\n",
       "JobRole                     object\n",
       "JobSatisfaction              int64\n",
       "MaritalStatus               object\n",
       "MonthlyIncome                int64\n",
       "MonthlyRate                  int64\n",
       "NumCompaniesWorked           int64\n",
       "Over18                      object\n",
       "OverTime                    object\n",
       "PercentSalaryHike            int64\n",
       "PerformanceRating            int64\n",
       "RelationshipSatisfaction     int64\n",
       "StandardHours                int64\n",
       "StockOptionLevel             int64\n",
       "TotalWorkingYears            int64\n",
       "TrainingTimesLastYear        int64\n",
       "WorkLifeBalance              int64\n",
       "YearsAtCompany               int64\n",
       "YearsInCurrentRole           int64\n",
       "YearsSinceLastPromotion      int64\n",
       "YearsWithCurrManager         int64\n",
       "dtype: object"
      ]
     },
     "execution_count": 4,
     "metadata": {},
     "output_type": "execute_result"
    }
   ],
   "source": [
    "df_HR_Employee_Attrition.dtypes"
   ]
  },
  {
   "cell_type": "code",
   "execution_count": 5,
   "metadata": {},
   "outputs": [
    {
     "data": {
      "text/html": [
       "<div>\n",
       "<style scoped>\n",
       "    .dataframe tbody tr th:only-of-type {\n",
       "        vertical-align: middle;\n",
       "    }\n",
       "\n",
       "    .dataframe tbody tr th {\n",
       "        vertical-align: top;\n",
       "    }\n",
       "\n",
       "    .dataframe thead th {\n",
       "        text-align: right;\n",
       "    }\n",
       "</style>\n",
       "<table border=\"1\" class=\"dataframe\">\n",
       "  <thead>\n",
       "    <tr style=\"text-align: right;\">\n",
       "      <th></th>\n",
       "      <th>Age</th>\n",
       "      <th>DailyRate</th>\n",
       "      <th>DistanceFromHome</th>\n",
       "      <th>Education</th>\n",
       "      <th>EmployeeCount</th>\n",
       "      <th>EmployeeNumber</th>\n",
       "      <th>EnvironmentSatisfaction</th>\n",
       "      <th>HourlyRate</th>\n",
       "      <th>JobInvolvement</th>\n",
       "      <th>JobLevel</th>\n",
       "      <th>...</th>\n",
       "      <th>RelationshipSatisfaction</th>\n",
       "      <th>StandardHours</th>\n",
       "      <th>StockOptionLevel</th>\n",
       "      <th>TotalWorkingYears</th>\n",
       "      <th>TrainingTimesLastYear</th>\n",
       "      <th>WorkLifeBalance</th>\n",
       "      <th>YearsAtCompany</th>\n",
       "      <th>YearsInCurrentRole</th>\n",
       "      <th>YearsSinceLastPromotion</th>\n",
       "      <th>YearsWithCurrManager</th>\n",
       "    </tr>\n",
       "  </thead>\n",
       "  <tbody>\n",
       "    <tr>\n",
       "      <th>count</th>\n",
       "      <td>1470.000000</td>\n",
       "      <td>1470.000000</td>\n",
       "      <td>1470.000000</td>\n",
       "      <td>1470.000000</td>\n",
       "      <td>1470.0</td>\n",
       "      <td>1470.000000</td>\n",
       "      <td>1470.000000</td>\n",
       "      <td>1470.000000</td>\n",
       "      <td>1470.000000</td>\n",
       "      <td>1470.000000</td>\n",
       "      <td>...</td>\n",
       "      <td>1470.000000</td>\n",
       "      <td>1470.0</td>\n",
       "      <td>1470.000000</td>\n",
       "      <td>1470.000000</td>\n",
       "      <td>1470.000000</td>\n",
       "      <td>1470.000000</td>\n",
       "      <td>1470.000000</td>\n",
       "      <td>1470.000000</td>\n",
       "      <td>1470.000000</td>\n",
       "      <td>1470.000000</td>\n",
       "    </tr>\n",
       "    <tr>\n",
       "      <th>mean</th>\n",
       "      <td>36.923810</td>\n",
       "      <td>802.485714</td>\n",
       "      <td>9.192517</td>\n",
       "      <td>2.912925</td>\n",
       "      <td>1.0</td>\n",
       "      <td>1024.865306</td>\n",
       "      <td>2.721769</td>\n",
       "      <td>65.891156</td>\n",
       "      <td>2.729932</td>\n",
       "      <td>2.063946</td>\n",
       "      <td>...</td>\n",
       "      <td>2.712245</td>\n",
       "      <td>80.0</td>\n",
       "      <td>0.793878</td>\n",
       "      <td>11.279592</td>\n",
       "      <td>2.799320</td>\n",
       "      <td>2.761224</td>\n",
       "      <td>7.008163</td>\n",
       "      <td>4.229252</td>\n",
       "      <td>2.187755</td>\n",
       "      <td>4.123129</td>\n",
       "    </tr>\n",
       "    <tr>\n",
       "      <th>std</th>\n",
       "      <td>9.135373</td>\n",
       "      <td>403.509100</td>\n",
       "      <td>8.106864</td>\n",
       "      <td>1.024165</td>\n",
       "      <td>0.0</td>\n",
       "      <td>602.024335</td>\n",
       "      <td>1.093082</td>\n",
       "      <td>20.329428</td>\n",
       "      <td>0.711561</td>\n",
       "      <td>1.106940</td>\n",
       "      <td>...</td>\n",
       "      <td>1.081209</td>\n",
       "      <td>0.0</td>\n",
       "      <td>0.852077</td>\n",
       "      <td>7.780782</td>\n",
       "      <td>1.289271</td>\n",
       "      <td>0.706476</td>\n",
       "      <td>6.126525</td>\n",
       "      <td>3.623137</td>\n",
       "      <td>3.222430</td>\n",
       "      <td>3.568136</td>\n",
       "    </tr>\n",
       "    <tr>\n",
       "      <th>min</th>\n",
       "      <td>18.000000</td>\n",
       "      <td>102.000000</td>\n",
       "      <td>1.000000</td>\n",
       "      <td>1.000000</td>\n",
       "      <td>1.0</td>\n",
       "      <td>1.000000</td>\n",
       "      <td>1.000000</td>\n",
       "      <td>30.000000</td>\n",
       "      <td>1.000000</td>\n",
       "      <td>1.000000</td>\n",
       "      <td>...</td>\n",
       "      <td>1.000000</td>\n",
       "      <td>80.0</td>\n",
       "      <td>0.000000</td>\n",
       "      <td>0.000000</td>\n",
       "      <td>0.000000</td>\n",
       "      <td>1.000000</td>\n",
       "      <td>0.000000</td>\n",
       "      <td>0.000000</td>\n",
       "      <td>0.000000</td>\n",
       "      <td>0.000000</td>\n",
       "    </tr>\n",
       "    <tr>\n",
       "      <th>25%</th>\n",
       "      <td>30.000000</td>\n",
       "      <td>465.000000</td>\n",
       "      <td>2.000000</td>\n",
       "      <td>2.000000</td>\n",
       "      <td>1.0</td>\n",
       "      <td>491.250000</td>\n",
       "      <td>2.000000</td>\n",
       "      <td>48.000000</td>\n",
       "      <td>2.000000</td>\n",
       "      <td>1.000000</td>\n",
       "      <td>...</td>\n",
       "      <td>2.000000</td>\n",
       "      <td>80.0</td>\n",
       "      <td>0.000000</td>\n",
       "      <td>6.000000</td>\n",
       "      <td>2.000000</td>\n",
       "      <td>2.000000</td>\n",
       "      <td>3.000000</td>\n",
       "      <td>2.000000</td>\n",
       "      <td>0.000000</td>\n",
       "      <td>2.000000</td>\n",
       "    </tr>\n",
       "    <tr>\n",
       "      <th>50%</th>\n",
       "      <td>36.000000</td>\n",
       "      <td>802.000000</td>\n",
       "      <td>7.000000</td>\n",
       "      <td>3.000000</td>\n",
       "      <td>1.0</td>\n",
       "      <td>1020.500000</td>\n",
       "      <td>3.000000</td>\n",
       "      <td>66.000000</td>\n",
       "      <td>3.000000</td>\n",
       "      <td>2.000000</td>\n",
       "      <td>...</td>\n",
       "      <td>3.000000</td>\n",
       "      <td>80.0</td>\n",
       "      <td>1.000000</td>\n",
       "      <td>10.000000</td>\n",
       "      <td>3.000000</td>\n",
       "      <td>3.000000</td>\n",
       "      <td>5.000000</td>\n",
       "      <td>3.000000</td>\n",
       "      <td>1.000000</td>\n",
       "      <td>3.000000</td>\n",
       "    </tr>\n",
       "    <tr>\n",
       "      <th>75%</th>\n",
       "      <td>43.000000</td>\n",
       "      <td>1157.000000</td>\n",
       "      <td>14.000000</td>\n",
       "      <td>4.000000</td>\n",
       "      <td>1.0</td>\n",
       "      <td>1555.750000</td>\n",
       "      <td>4.000000</td>\n",
       "      <td>83.750000</td>\n",
       "      <td>3.000000</td>\n",
       "      <td>3.000000</td>\n",
       "      <td>...</td>\n",
       "      <td>4.000000</td>\n",
       "      <td>80.0</td>\n",
       "      <td>1.000000</td>\n",
       "      <td>15.000000</td>\n",
       "      <td>3.000000</td>\n",
       "      <td>3.000000</td>\n",
       "      <td>9.000000</td>\n",
       "      <td>7.000000</td>\n",
       "      <td>3.000000</td>\n",
       "      <td>7.000000</td>\n",
       "    </tr>\n",
       "    <tr>\n",
       "      <th>max</th>\n",
       "      <td>60.000000</td>\n",
       "      <td>1499.000000</td>\n",
       "      <td>29.000000</td>\n",
       "      <td>5.000000</td>\n",
       "      <td>1.0</td>\n",
       "      <td>2068.000000</td>\n",
       "      <td>4.000000</td>\n",
       "      <td>100.000000</td>\n",
       "      <td>4.000000</td>\n",
       "      <td>5.000000</td>\n",
       "      <td>...</td>\n",
       "      <td>4.000000</td>\n",
       "      <td>80.0</td>\n",
       "      <td>3.000000</td>\n",
       "      <td>40.000000</td>\n",
       "      <td>6.000000</td>\n",
       "      <td>4.000000</td>\n",
       "      <td>40.000000</td>\n",
       "      <td>18.000000</td>\n",
       "      <td>15.000000</td>\n",
       "      <td>17.000000</td>\n",
       "    </tr>\n",
       "  </tbody>\n",
       "</table>\n",
       "<p>8 rows × 26 columns</p>\n",
       "</div>"
      ],
      "text/plain": [
       "               Age    DailyRate  DistanceFromHome    Education  EmployeeCount  \\\n",
       "count  1470.000000  1470.000000       1470.000000  1470.000000         1470.0   \n",
       "mean     36.923810   802.485714          9.192517     2.912925            1.0   \n",
       "std       9.135373   403.509100          8.106864     1.024165            0.0   \n",
       "min      18.000000   102.000000          1.000000     1.000000            1.0   \n",
       "25%      30.000000   465.000000          2.000000     2.000000            1.0   \n",
       "50%      36.000000   802.000000          7.000000     3.000000            1.0   \n",
       "75%      43.000000  1157.000000         14.000000     4.000000            1.0   \n",
       "max      60.000000  1499.000000         29.000000     5.000000            1.0   \n",
       "\n",
       "       EmployeeNumber  EnvironmentSatisfaction   HourlyRate  JobInvolvement  \\\n",
       "count     1470.000000              1470.000000  1470.000000     1470.000000   \n",
       "mean      1024.865306                 2.721769    65.891156        2.729932   \n",
       "std        602.024335                 1.093082    20.329428        0.711561   \n",
       "min          1.000000                 1.000000    30.000000        1.000000   \n",
       "25%        491.250000                 2.000000    48.000000        2.000000   \n",
       "50%       1020.500000                 3.000000    66.000000        3.000000   \n",
       "75%       1555.750000                 4.000000    83.750000        3.000000   \n",
       "max       2068.000000                 4.000000   100.000000        4.000000   \n",
       "\n",
       "          JobLevel  ...  RelationshipSatisfaction  StandardHours  \\\n",
       "count  1470.000000  ...               1470.000000         1470.0   \n",
       "mean      2.063946  ...                  2.712245           80.0   \n",
       "std       1.106940  ...                  1.081209            0.0   \n",
       "min       1.000000  ...                  1.000000           80.0   \n",
       "25%       1.000000  ...                  2.000000           80.0   \n",
       "50%       2.000000  ...                  3.000000           80.0   \n",
       "75%       3.000000  ...                  4.000000           80.0   \n",
       "max       5.000000  ...                  4.000000           80.0   \n",
       "\n",
       "       StockOptionLevel  TotalWorkingYears  TrainingTimesLastYear  \\\n",
       "count       1470.000000        1470.000000            1470.000000   \n",
       "mean           0.793878          11.279592               2.799320   \n",
       "std            0.852077           7.780782               1.289271   \n",
       "min            0.000000           0.000000               0.000000   \n",
       "25%            0.000000           6.000000               2.000000   \n",
       "50%            1.000000          10.000000               3.000000   \n",
       "75%            1.000000          15.000000               3.000000   \n",
       "max            3.000000          40.000000               6.000000   \n",
       "\n",
       "       WorkLifeBalance  YearsAtCompany  YearsInCurrentRole  \\\n",
       "count      1470.000000     1470.000000         1470.000000   \n",
       "mean          2.761224        7.008163            4.229252   \n",
       "std           0.706476        6.126525            3.623137   \n",
       "min           1.000000        0.000000            0.000000   \n",
       "25%           2.000000        3.000000            2.000000   \n",
       "50%           3.000000        5.000000            3.000000   \n",
       "75%           3.000000        9.000000            7.000000   \n",
       "max           4.000000       40.000000           18.000000   \n",
       "\n",
       "       YearsSinceLastPromotion  YearsWithCurrManager  \n",
       "count              1470.000000           1470.000000  \n",
       "mean                  2.187755              4.123129  \n",
       "std                   3.222430              3.568136  \n",
       "min                   0.000000              0.000000  \n",
       "25%                   0.000000              2.000000  \n",
       "50%                   1.000000              3.000000  \n",
       "75%                   3.000000              7.000000  \n",
       "max                  15.000000             17.000000  \n",
       "\n",
       "[8 rows x 26 columns]"
      ]
     },
     "execution_count": 5,
     "metadata": {},
     "output_type": "execute_result"
    }
   ],
   "source": [
    "df_HR_Employee_Attrition.describe()"
   ]
  },
  {
   "cell_type": "markdown",
   "metadata": {},
   "source": [
    "## Schema for the data\n"
   ]
  },
  {
   "cell_type": "code",
   "execution_count": 31,
   "metadata": {},
   "outputs": [
    {
     "data": {
      "text/plain": [
       "Index(['Age', 'Attrition', 'BusinessTravel', 'DailyRate', 'Department',\n",
       "       'DistanceFromHome', 'Education', 'EducationField', 'EmployeeCount',\n",
       "       'EmployeeNumber', 'EnvironmentSatisfaction', 'Gender', 'HourlyRate',\n",
       "       'JobInvolvement', 'JobLevel', 'JobRole', 'JobSatisfaction',\n",
       "       'MaritalStatus', 'MonthlyIncome', 'MonthlyRate', 'NumCompaniesWorked',\n",
       "       'Over18', 'OverTime', 'PercentSalaryHike', 'PerformanceRating',\n",
       "       'RelationshipSatisfaction', 'StandardHours', 'StockOptionLevel',\n",
       "       'TotalWorkingYears', 'TrainingTimesLastYear', 'WorkLifeBalance',\n",
       "       'YearsAtCompany', 'YearsInCurrentRole', 'YearsSinceLastPromotion',\n",
       "       'YearsWithCurrManager'],\n",
       "      dtype='object')"
      ]
     },
     "execution_count": 31,
     "metadata": {},
     "output_type": "execute_result"
    }
   ],
   "source": [
    "df_HR_Employee_Attrition.columns"
   ]
  },
  {
   "cell_type": "markdown",
   "metadata": {},
   "source": [
    "## Delete missing values"
   ]
  },
  {
   "cell_type": "code",
   "execution_count": 32,
   "metadata": {},
   "outputs": [],
   "source": [
    " \n",
    "def delete_missing_val(df, col_names): \n",
    "    for col_name in list(col_names):\n",
    "        notmissing = df[col_name] != None\n",
    "        df = df[notmissing] \n",
    "        return df\n",
    "df_HR_Employee_Attrition = delete_missing_val(df_HR_Employee_Attrition, df_HR_Employee_Attrition.columns)\n"
   ]
  },
  {
   "cell_type": "code",
   "execution_count": 49,
   "metadata": {},
   "outputs": [
    {
     "data": {
      "text/plain": [
       "Age                         0\n",
       "Attrition                   0\n",
       "BusinessTravel              0\n",
       "DailyRate                   0\n",
       "Department                  0\n",
       "DistanceFromHome            0\n",
       "Education                   0\n",
       "EducationField              0\n",
       "EmployeeCount               0\n",
       "EmployeeNumber              0\n",
       "EnvironmentSatisfaction     0\n",
       "Gender                      0\n",
       "HourlyRate                  0\n",
       "JobInvolvement              0\n",
       "JobLevel                    0\n",
       "JobRole                     0\n",
       "JobSatisfaction             0\n",
       "MaritalStatus               0\n",
       "MonthlyIncome               0\n",
       "MonthlyRate                 0\n",
       "NumCompaniesWorked          0\n",
       "Over18                      0\n",
       "OverTime                    0\n",
       "PercentSalaryHike           0\n",
       "PerformanceRating           0\n",
       "RelationshipSatisfaction    0\n",
       "StandardHours               0\n",
       "StockOptionLevel            0\n",
       "TotalWorkingYears           0\n",
       "TrainingTimesLastYear       0\n",
       "WorkLifeBalance             0\n",
       "YearsAtCompany              0\n",
       "YearsInCurrentRole          0\n",
       "YearsSinceLastPromotion     0\n",
       "YearsWithCurrManager        0\n",
       "dtype: int64"
      ]
     },
     "execution_count": 49,
     "metadata": {},
     "output_type": "execute_result"
    }
   ],
   "source": [
    "df_HR_Employee_Attrition.isnull().sum()"
   ]
  },
  {
   "cell_type": "markdown",
   "metadata": {},
   "source": [
    "2. Check if there is data under the age of 18 and delete the row with this value, and Age has no conflict with Over18"
   ]
  },
  {
   "cell_type": "code",
   "execution_count": 10,
   "metadata": {},
   "outputs": [],
   "source": [
    "over_18=df_HR_Employee_Attrition['Age']\n",
    "over_18=over_18>=18\n",
    "df_HR_Employee_Attrition=df_HR_Employee_Attrition[over_18]\n",
    "\n",
    "over_18s=df_HR_Employee_Attrition['Over18']=='Y'\n",
    "df_HR_Employee_Attrition=df_HR_Employee_Attrition[over_18s]\n"
   ]
  },
  {
   "cell_type": "markdown",
   "metadata": {},
   "source": [
    "## Delete unwanted columns "
   ]
  },
  {
   "cell_type": "code",
   "execution_count": 11,
   "metadata": {},
   "outputs": [
    {
     "name": "stdout",
     "output_type": "stream",
     "text": [
      "80    1470\n",
      "Name: StandardHours, dtype: int64\n",
      "1    1470\n",
      "Name: EmployeeCount, dtype: int64\n"
     ]
    }
   ],
   "source": [
    "print(df_HR_Employee_Attrition['StandardHours'].value_counts())\n",
    "print(df_HR_Employee_Attrition['EmployeeCount'].value_counts())"
   ]
  },
  {
   "cell_type": "markdown",
   "metadata": {},
   "source": [
    "Delete these columns StandardHours, EmployeeCount and Over18"
   ]
  },
  {
   "cell_type": "code",
   "execution_count": 12,
   "metadata": {
    "scrolled": true
   },
   "outputs": [],
   "source": [
    "df_HR_Employee_Attrition = df_HR_Employee_Attrition.drop(columns=['StandardHours', 'EmployeeCount'])\n"
   ]
  },
  {
   "cell_type": "markdown",
   "metadata": {},
   "source": [
    "Delete columns that are not required by the attribute"
   ]
  },
  {
   "cell_type": "code",
   "execution_count": 13,
   "metadata": {},
   "outputs": [],
   "source": [
    "df_HR_Employee_Attrition = df_HR_Employee_Attrition.drop(columns=['Attrition', 'EmployeeNumber','BusinessTravel','DailyRate','OverTime'])\n",
    "\n"
   ]
  },
  {
   "cell_type": "markdown",
   "metadata": {},
   "source": [
    "Check whether our data no missing data, and has an appropriate value"
   ]
  },
  {
   "cell_type": "code",
   "execution_count": 14,
   "metadata": {},
   "outputs": [
    {
     "name": "stdout",
     "output_type": "stream",
     "text": [
      "Y    1470\n",
      "Name: Over18, dtype: int64\n"
     ]
    }
   ],
   "source": [
    "print(df_HR_Employee_Attrition['Over18'].value_counts())"
   ]
  },
  {
   "cell_type": "code",
   "execution_count": 15,
   "metadata": {},
   "outputs": [
    {
     "data": {
      "text/plain": [
       "18"
      ]
     },
     "execution_count": 15,
     "metadata": {},
     "output_type": "execute_result"
    }
   ],
   "source": [
    "df_HR_Employee_Attrition['Age'].min()"
   ]
  },
  {
   "cell_type": "code",
   "execution_count": 16,
   "metadata": {},
   "outputs": [
    {
     "data": {
      "text/plain": [
       "Age                         0\n",
       "Department                  0\n",
       "DistanceFromHome            0\n",
       "Education                   0\n",
       "EducationField              0\n",
       "EnvironmentSatisfaction     0\n",
       "Gender                      0\n",
       "HourlyRate                  0\n",
       "JobInvolvement              0\n",
       "JobLevel                    0\n",
       "JobRole                     0\n",
       "JobSatisfaction             0\n",
       "MaritalStatus               0\n",
       "MonthlyIncome               0\n",
       "MonthlyRate                 0\n",
       "NumCompaniesWorked          0\n",
       "Over18                      0\n",
       "PercentSalaryHike           0\n",
       "PerformanceRating           0\n",
       "RelationshipSatisfaction    0\n",
       "StockOptionLevel            0\n",
       "TotalWorkingYears           0\n",
       "TrainingTimesLastYear       0\n",
       "WorkLifeBalance             0\n",
       "YearsAtCompany              0\n",
       "YearsInCurrentRole          0\n",
       "YearsSinceLastPromotion     0\n",
       "YearsWithCurrManager        0\n",
       "dtype: int64"
      ]
     },
     "execution_count": 16,
     "metadata": {},
     "output_type": "execute_result"
    }
   ],
   "source": [
    "df_HR_Employee_Attrition.isnull().sum()"
   ]
  },
  {
   "cell_type": "code",
   "execution_count": 17,
   "metadata": {},
   "outputs": [],
   "source": [
    "df_HR_Employee_Attrition.to_csv('cleaned_HR_Employee_Attrition.csv')"
   ]
  },
  {
   "cell_type": "code",
   "execution_count": 18,
   "metadata": {},
   "outputs": [
    {
     "data": {
      "text/plain": [
       "(1470, 29)"
      ]
     },
     "execution_count": 18,
     "metadata": {},
     "output_type": "execute_result"
    }
   ],
   "source": [
    "df_cleand = pd.read_csv('cleaned_HR_Employee_Attrition.csv')\n",
    "df_cleand.shape"
   ]
  },
  {
   "cell_type": "markdown",
   "metadata": {},
   "source": [
    "# 3 ANALYSIS  \n",
    "\n"
   ]
  },
  {
   "cell_type": "markdown",
   "metadata": {},
   "source": [
    "## 3.1 <font color=#008000>Explore the relationship between age and the income</font> in different department"
   ]
  },
  {
   "cell_type": "code",
   "execution_count": 19,
   "metadata": {},
   "outputs": [],
   "source": [
    "education_department=df_HR_Employee_Attrition.groupby(['Department','Education'])\n"
   ]
  },
  {
   "cell_type": "code",
   "execution_count": 20,
   "metadata": {},
   "outputs": [
    {
     "data": {
      "text/plain": [
       "Department              Education\n",
       "Human Resources         1              5\n",
       "                        2             13\n",
       "                        3             27\n",
       "                        4             15\n",
       "                        5              3\n",
       "Research & Development  1            115\n",
       "                        2            182\n",
       "                        3            379\n",
       "                        4            255\n",
       "                        5             30\n",
       "Sales                   1             50\n",
       "                        2             87\n",
       "                        3            166\n",
       "                        4            128\n",
       "                        5             15\n",
       "Name: MonthlyIncome, dtype: int64"
      ]
     },
     "execution_count": 20,
     "metadata": {},
     "output_type": "execute_result"
    }
   ],
   "source": [
    "education_department['MonthlyIncome'].count()"
   ]
  },
  {
   "cell_type": "markdown",
   "metadata": {},
   "source": [
    "Delete Human Resources's level 1 and 5"
   ]
  },
  {
   "cell_type": "code",
   "execution_count": 21,
   "metadata": {},
   "outputs": [],
   "source": [
    "education_department_dataset = df_HR_Employee_Attrition.drop(df_HR_Employee_Attrition[(df_HR_Employee_Attrition.Education ==5) & (df_HR_Employee_Attrition.Department == 'Human Resources')].index)\n",
    "education_department_dataset = education_department_dataset .drop(education_department_dataset [(education_department_dataset .Education ==1) & (education_department_dataset .Department == 'Human Resources')].index)"
   ]
  },
  {
   "cell_type": "code",
   "execution_count": 22,
   "metadata": {},
   "outputs": [],
   "source": [
    "education_department=education_department_dataset.groupby(['Department','Education'])"
   ]
  },
  {
   "cell_type": "markdown",
   "metadata": {},
   "source": [
    "\n",
    "We have added the average value of monthly income. "
   ]
  },
  {
   "cell_type": "code",
   "execution_count": 23,
   "metadata": {
    "scrolled": false
   },
   "outputs": [
    {
     "data": {
      "text/html": [
       "<div>\n",
       "<style scoped>\n",
       "    .dataframe tbody tr th:only-of-type {\n",
       "        vertical-align: middle;\n",
       "    }\n",
       "\n",
       "    .dataframe tbody tr th {\n",
       "        vertical-align: top;\n",
       "    }\n",
       "\n",
       "    .dataframe thead th {\n",
       "        text-align: right;\n",
       "    }\n",
       "</style>\n",
       "<table border=\"1\" class=\"dataframe\">\n",
       "  <thead>\n",
       "    <tr style=\"text-align: right;\">\n",
       "      <th></th>\n",
       "      <th></th>\n",
       "      <th>mean</th>\n",
       "    </tr>\n",
       "    <tr>\n",
       "      <th>Department</th>\n",
       "      <th>Education</th>\n",
       "      <th></th>\n",
       "    </tr>\n",
       "  </thead>\n",
       "  <tbody>\n",
       "    <tr>\n",
       "      <th rowspan=\"3\" valign=\"top\">Human Resources</th>\n",
       "      <th>2</th>\n",
       "      <td>4782.923077</td>\n",
       "    </tr>\n",
       "    <tr>\n",
       "      <th>3</th>\n",
       "      <td>6760.555556</td>\n",
       "    </tr>\n",
       "    <tr>\n",
       "      <th>4</th>\n",
       "      <td>9711.133333</td>\n",
       "    </tr>\n",
       "    <tr>\n",
       "      <th rowspan=\"5\" valign=\"top\">Research &amp; Development</th>\n",
       "      <th>1</th>\n",
       "      <td>5770.860870</td>\n",
       "    </tr>\n",
       "    <tr>\n",
       "      <th>2</th>\n",
       "      <td>6190.093407</td>\n",
       "    </tr>\n",
       "    <tr>\n",
       "      <th>3</th>\n",
       "      <td>6220.704485</td>\n",
       "    </tr>\n",
       "    <tr>\n",
       "      <th>4</th>\n",
       "      <td>6425.972549</td>\n",
       "    </tr>\n",
       "    <tr>\n",
       "      <th>5</th>\n",
       "      <td>8325.600000</td>\n",
       "    </tr>\n",
       "    <tr>\n",
       "      <th rowspan=\"5\" valign=\"top\">Sales</th>\n",
       "      <th>1</th>\n",
       "      <td>5627.300000</td>\n",
       "    </tr>\n",
       "    <tr>\n",
       "      <th>2</th>\n",
       "      <td>6518.839080</td>\n",
       "    </tr>\n",
       "    <tr>\n",
       "      <th>3</th>\n",
       "      <td>7154.777108</td>\n",
       "    </tr>\n",
       "    <tr>\n",
       "      <th>4</th>\n",
       "      <td>7304.734375</td>\n",
       "    </tr>\n",
       "    <tr>\n",
       "      <th>5</th>\n",
       "      <td>8839.200000</td>\n",
       "    </tr>\n",
       "  </tbody>\n",
       "</table>\n",
       "</div>"
      ],
      "text/plain": [
       "                                         mean\n",
       "Department             Education             \n",
       "Human Resources        2          4782.923077\n",
       "                       3          6760.555556\n",
       "                       4          9711.133333\n",
       "Research & Development 1          5770.860870\n",
       "                       2          6190.093407\n",
       "                       3          6220.704485\n",
       "                       4          6425.972549\n",
       "                       5          8325.600000\n",
       "Sales                  1          5627.300000\n",
       "                       2          6518.839080\n",
       "                       3          7154.777108\n",
       "                       4          7304.734375\n",
       "                       5          8839.200000"
      ]
     },
     "execution_count": 23,
     "metadata": {},
     "output_type": "execute_result"
    }
   ],
   "source": [
    "education_department['MonthlyIncome'].agg(['mean'])"
   ]
  },
  {
   "cell_type": "markdown",
   "metadata": {},
   "source": [
    "## 3.2 <font color=#008000>Explore the association between age and Income</font> in different department\n"
   ]
  },
  {
   "cell_type": "code",
   "execution_count": 24,
   "metadata": {},
   "outputs": [
    {
     "data": {
      "text/plain": [
       "60"
      ]
     },
     "execution_count": 24,
     "metadata": {},
     "output_type": "execute_result"
    }
   ],
   "source": [
    "df_HR_Employee_Attrition['Age'].max()"
   ]
  },
  {
   "cell_type": "code",
   "execution_count": 25,
   "metadata": {},
   "outputs": [
    {
     "data": {
      "text/plain": [
       "18"
      ]
     },
     "execution_count": 25,
     "metadata": {},
     "output_type": "execute_result"
    }
   ],
   "source": [
    "df_HR_Employee_Attrition['Age'].min()"
   ]
  },
  {
   "cell_type": "code",
   "execution_count": 26,
   "metadata": {},
   "outputs": [],
   "source": [
    "age_income_list=[]\n",
    "## Human_Resources part\n",
    "Human_Resources=(df_HR_Employee_Attrition['Department']=='Human Resources')\n",
    "Human_Resource=df_HR_Employee_Attrition[Human_Resources]\n",
    "## age between 18 and 30\n",
    "human_resources_1_2=Human_Resource['Age']<=30\n",
    "human_resource_1_2=Human_Resource[human_resources_1_2]\n",
    "mean=human_resource_1_2['MonthlyIncome'].mean().round(3)\n",
    "age_income_list.append(\"Department: Human Resources, Age: between 18 and 30 Mean monthly mean income: %.3f\"%mean)\n",
    "\n",
    "## age between 31 and 40\n",
    "human_resources_3_4=Human_Resource['Age']<=40\n",
    "human_resource_3_4=Human_Resource[human_resources_3_4]\n",
    "\n",
    "human_resources_3_4=human_resource_3_4['Age']>30\n",
    "human_resource_3_4=human_resource_3_4[human_resources_3_4]\n",
    "\n",
    "mean=human_resource_3_4['MonthlyIncome'].mean().round(3)\n",
    "age_income_list.append(\"Department: Human Resources, Age: between 31 and 40 Mean monthly mean income: %.3f\"%mean)\n",
    "\n",
    "## age between 41 and 60\n",
    "human_resources_5_6=Human_Resource['Age']<=60\n",
    "human_resource_5_6=Human_Resource[human_resources_5_6]\n",
    "\n",
    "human_resources_5_6=human_resource_5_6['Age']>31\n",
    "human_resource_5_6=human_resource_5_6[human_resources_5_6]\n",
    "\n",
    "mean=human_resource_5_6['MonthlyIncome'].mean().round(3)\n",
    "age_income_list.append(\"Department: Human Resources, Age: between 41 and 60 Mean monthly mean income: %.3f\"%mean)\n",
    "\n",
    "\n"
   ]
  },
  {
   "cell_type": "code",
   "execution_count": 27,
   "metadata": {},
   "outputs": [],
   "source": [
    "## Sales part\n",
    "sales=(df_HR_Employee_Attrition['Department']=='Sales')\n",
    "sale=df_HR_Employee_Attrition[sales]\n",
    "## age between 18 and 30\n",
    "human_resources_1_2=sale['Age']<=30\n",
    "human_resource_1_2=sale[human_resources_1_2]\n",
    "mean=human_resource_1_2['MonthlyIncome'].mean().round(3)\n",
    "age_income_list.append(\"Department: Sales, Age: between 18 and 30 Mean monthly mean income: %.3f\"%mean)\n",
    "\n",
    "## age between 31 and 40\n",
    "human_resources_3_4=sale['Age']<=40\n",
    "human_resource_3_4=sale[human_resources_3_4]\n",
    "\n",
    "human_resources_3_4=human_resource_3_4['Age']>30\n",
    "human_resource_3_4=human_resource_3_4[human_resources_3_4]\n",
    "\n",
    "mean=human_resource_3_4['MonthlyIncome'].mean().round(3)\n",
    "age_income_list.append(\"Department: Sales, Age: between 31 and 40 Mean monthly mean income: %.3f\"%mean)\n",
    "\n",
    "## age between 41 and 60\n",
    "human_resources_5_6=sale['Age']<=60\n",
    "human_resource_5_6=sale[human_resources_5_6]\n",
    "\n",
    "human_resources_5_6=human_resource_5_6['Age']>31\n",
    "human_resource_5_6=human_resource_5_6[human_resources_5_6]\n",
    "\n",
    "mean=human_resource_5_6['MonthlyIncome'].mean().round(3)\n",
    "age_income_list.append(\"Department: Sales, Age: between 41 and 60 Mean monthly mean income: %.3f\"%mean)\n",
    "\n"
   ]
  },
  {
   "cell_type": "code",
   "execution_count": 28,
   "metadata": {},
   "outputs": [
    {
     "data": {
      "text/plain": [
       "['Department: Human Resources, Age: between 18 and 30 Mean monthly mean income: 3156.562',\n",
       " 'Department: Human Resources, Age: between 31 and 40 Mean monthly mean income: 4716.522',\n",
       " 'Department: Human Resources, Age: between 41 and 60 Mean monthly mean income: 8119.409',\n",
       " 'Department: Sales, Age: between 18 and 30 Mean monthly mean income: 4593.414',\n",
       " 'Department: Sales, Age: between 31 and 40 Mean monthly mean income: 6470.751',\n",
       " 'Department: Sales, Age: between 41 and 60 Mean monthly mean income: 7954.924',\n",
       " 'Department: Research & Development, Age: between 18 and 30 Mean monthly mean income: 3579.744',\n",
       " 'Department: Research & Development, Age: between 31 and 40 Mean monthly mean income: 5638.040',\n",
       " 'Department: Research & Development, Age: between 41 and 60 Mean monthly mean income: 7361.184']"
      ]
     },
     "execution_count": 28,
     "metadata": {},
     "output_type": "execute_result"
    }
   ],
   "source": [
    "## Research & Development part\n",
    "Research_Developments=(df_HR_Employee_Attrition['Department']=='Research & Development')\n",
    "Research_Development=df_HR_Employee_Attrition[Research_Developments]\n",
    "## age between 18 and 30\n",
    "human_resources_1_2=Research_Development['Age']<=30\n",
    "human_resource_1_2=Research_Development[human_resources_1_2]\n",
    "mean=human_resource_1_2['MonthlyIncome'].mean().round(3)\n",
    "age_income_list.append(\"Department: Research & Development, Age: between 18 and 30 Mean monthly mean income: %.3f\"%mean)\n",
    "\n",
    "## age between 31 and 40\n",
    "human_resources_3_4=Research_Development['Age']<=40\n",
    "human_resource_3_4=Research_Development[human_resources_3_4]\n",
    "\n",
    "human_resources_3_4=human_resource_3_4['Age']>30\n",
    "human_resource_3_4=human_resource_3_4[human_resources_3_4]\n",
    "\n",
    "mean=human_resource_3_4['MonthlyIncome'].mean().round(3)\n",
    "age_income_list.append(\"Department: Research & Development, Age: between 31 and 40 Mean monthly mean income: %.3f\"%mean)\n",
    "\n",
    "## age between 41 and 60\n",
    "human_resources_5_6=Research_Development['Age']<=60\n",
    "human_resource_5_6=Research_Development[human_resources_5_6]\n",
    "\n",
    "human_resources_5_6=human_resource_5_6['Age']>31\n",
    "human_resource_5_6=human_resource_5_6[human_resources_5_6]\n",
    "\n",
    "mean=human_resource_5_6['MonthlyIncome'].mean().round(3)\n",
    "age_income_list.append(\"Department: Research & Development, Age: between 41 and 60 Mean monthly mean income: %.3f\"%mean)\n",
    "\n",
    "age_income_list"
   ]
  },
  {
   "cell_type": "markdown",
   "metadata": {},
   "source": [
    "## 3.3 Explore the income difference between Male and female in different department \n"
   ]
  },
  {
   "cell_type": "code",
   "execution_count": 29,
   "metadata": {},
   "outputs": [],
   "source": [
    "department_gender=df_HR_Employee_Attrition.groupby(['Department','Gender'])"
   ]
  },
  {
   "cell_type": "code",
   "execution_count": 30,
   "metadata": {},
   "outputs": [
    {
     "data": {
      "text/html": [
       "<div>\n",
       "<style scoped>\n",
       "    .dataframe tbody tr th:only-of-type {\n",
       "        vertical-align: middle;\n",
       "    }\n",
       "\n",
       "    .dataframe tbody tr th {\n",
       "        vertical-align: top;\n",
       "    }\n",
       "\n",
       "    .dataframe thead th {\n",
       "        text-align: right;\n",
       "    }\n",
       "</style>\n",
       "<table border=\"1\" class=\"dataframe\">\n",
       "  <thead>\n",
       "    <tr style=\"text-align: right;\">\n",
       "      <th></th>\n",
       "      <th></th>\n",
       "      <th>mean</th>\n",
       "      <th>max</th>\n",
       "      <th>min</th>\n",
       "      <th>median</th>\n",
       "    </tr>\n",
       "    <tr>\n",
       "      <th>Department</th>\n",
       "      <th>Gender</th>\n",
       "      <th></th>\n",
       "      <th></th>\n",
       "      <th></th>\n",
       "      <th></th>\n",
       "    </tr>\n",
       "  </thead>\n",
       "  <tbody>\n",
       "    <tr>\n",
       "      <th rowspan=\"2\" valign=\"top\">Human Resources</th>\n",
       "      <th>Female</th>\n",
       "      <td>7264.000000</td>\n",
       "      <td>19658</td>\n",
       "      <td>2109</td>\n",
       "      <td>4313.5</td>\n",
       "    </tr>\n",
       "    <tr>\n",
       "      <th>Male</th>\n",
       "      <td>6371.023256</td>\n",
       "      <td>19717</td>\n",
       "      <td>1555</td>\n",
       "      <td>3886.0</td>\n",
       "    </tr>\n",
       "    <tr>\n",
       "      <th rowspan=\"2\" valign=\"top\">Research &amp; Development</th>\n",
       "      <th>Female</th>\n",
       "      <td>6513.691293</td>\n",
       "      <td>19973</td>\n",
       "      <td>1129</td>\n",
       "      <td>4615.0</td>\n",
       "    </tr>\n",
       "    <tr>\n",
       "      <th>Male</th>\n",
       "      <td>6129.888316</td>\n",
       "      <td>19999</td>\n",
       "      <td>1009</td>\n",
       "      <td>4174.5</td>\n",
       "    </tr>\n",
       "    <tr>\n",
       "      <th rowspan=\"2\" valign=\"top\">Sales</th>\n",
       "      <th>Female</th>\n",
       "      <td>6972.126984</td>\n",
       "      <td>19845</td>\n",
       "      <td>1200</td>\n",
       "      <td>5666.0</td>\n",
       "    </tr>\n",
       "    <tr>\n",
       "      <th>Male</th>\n",
       "      <td>6949.645914</td>\n",
       "      <td>19847</td>\n",
       "      <td>1052</td>\n",
       "      <td>6134.0</td>\n",
       "    </tr>\n",
       "  </tbody>\n",
       "</table>\n",
       "</div>"
      ],
      "text/plain": [
       "                                      mean    max   min  median\n",
       "Department             Gender                                  \n",
       "Human Resources        Female  7264.000000  19658  2109  4313.5\n",
       "                       Male    6371.023256  19717  1555  3886.0\n",
       "Research & Development Female  6513.691293  19973  1129  4615.0\n",
       "                       Male    6129.888316  19999  1009  4174.5\n",
       "Sales                  Female  6972.126984  19845  1200  5666.0\n",
       "                       Male    6949.645914  19847  1052  6134.0"
      ]
     },
     "execution_count": 30,
     "metadata": {},
     "output_type": "execute_result"
    }
   ],
   "source": [
    "department_gender['MonthlyIncome'].agg(['mean','max','min','median'])"
   ]
  },
  {
   "cell_type": "code",
   "execution_count": 31,
   "metadata": {},
   "outputs": [],
   "source": [
    "# Human_Resource part\n",
    "print_list=[]\n",
    "males=Human_Resource['Gender']=='Male'\n",
    "male=Human_Resource[males]\n",
    "\n",
    "females=Human_Resource['Gender']=='Female'\n",
    "female=Human_Resource[females]\n",
    "\n",
    "a=male['MonthlyIncome'].mean().round(3)/female['MonthlyIncome'].mean().round(3)\n",
    "print_list.append(\"In Human Resource department,The monthly income of male is %.3f times that of female\"%a)\n"
   ]
  },
  {
   "cell_type": "code",
   "execution_count": 32,
   "metadata": {},
   "outputs": [],
   "source": [
    "# Sale part\n",
    "males=sale['Gender']=='Male'\n",
    "male=sale[males]\n",
    "\n",
    "females=sale['Gender']=='Female'\n",
    "female=sale[females]\n",
    "\n",
    "a=male['MonthlyIncome'].mean().round(3)/female['MonthlyIncome'].mean().round(3)\n",
    "print_list.append(\"In Sales department,The monthly income of male is %.3f times that of female\"%a)\n",
    "\n"
   ]
  },
  {
   "cell_type": "code",
   "execution_count": 33,
   "metadata": {},
   "outputs": [
    {
     "data": {
      "text/plain": [
       "['In Human Resource department,The monthly income of male is 0.877 times that of female',\n",
       " 'In Sales department,The monthly income of male is 0.997 times that of female',\n",
       " 'In Research Developments department,The monthly income of male is 0.941 times that of female']"
      ]
     },
     "execution_count": 33,
     "metadata": {},
     "output_type": "execute_result"
    }
   ],
   "source": [
    "# Research_Development part\n",
    "males=Research_Development['Gender']=='Male'\n",
    "male=Research_Development[males]\n",
    "\n",
    "females=Research_Development['Gender']=='Female'\n",
    "female=Research_Development[females]\n",
    "\n",
    "a=male['MonthlyIncome'].mean().round(3)/female['MonthlyIncome'].mean().round(3)\n",
    "print_list.append(\"In Research Developments department,The monthly income of male is %.3f times that of female\"%a)\n",
    "\n",
    "print_list"
   ]
  },
  {
   "cell_type": "markdown",
   "metadata": {},
   "source": [
    "## 3.4 Explore income difference  among different MaritalStatus in different department\n"
   ]
  },
  {
   "cell_type": "code",
   "execution_count": 34,
   "metadata": {},
   "outputs": [],
   "source": [
    "department_mari=df_HR_Employee_Attrition.groupby(['Department','MaritalStatus'])"
   ]
  },
  {
   "cell_type": "code",
   "execution_count": 35,
   "metadata": {},
   "outputs": [
    {
     "data": {
      "text/html": [
       "<div>\n",
       "<style scoped>\n",
       "    .dataframe tbody tr th:only-of-type {\n",
       "        vertical-align: middle;\n",
       "    }\n",
       "\n",
       "    .dataframe tbody tr th {\n",
       "        vertical-align: top;\n",
       "    }\n",
       "\n",
       "    .dataframe thead th {\n",
       "        text-align: right;\n",
       "    }\n",
       "</style>\n",
       "<table border=\"1\" class=\"dataframe\">\n",
       "  <thead>\n",
       "    <tr style=\"text-align: right;\">\n",
       "      <th></th>\n",
       "      <th></th>\n",
       "      <th>mean</th>\n",
       "      <th>min</th>\n",
       "      <th>max</th>\n",
       "    </tr>\n",
       "    <tr>\n",
       "      <th>Department</th>\n",
       "      <th>MaritalStatus</th>\n",
       "      <th></th>\n",
       "      <th></th>\n",
       "      <th></th>\n",
       "    </tr>\n",
       "  </thead>\n",
       "  <tbody>\n",
       "    <tr>\n",
       "      <th rowspan=\"3\" valign=\"top\">Human Resources</th>\n",
       "      <th>Divorced</th>\n",
       "      <td>5125.250000</td>\n",
       "      <td>2064</td>\n",
       "      <td>19141</td>\n",
       "    </tr>\n",
       "    <tr>\n",
       "      <th>Married</th>\n",
       "      <td>7026.970588</td>\n",
       "      <td>1555</td>\n",
       "      <td>19658</td>\n",
       "    </tr>\n",
       "    <tr>\n",
       "      <th>Single</th>\n",
       "      <td>7562.538462</td>\n",
       "      <td>2109</td>\n",
       "      <td>19717</td>\n",
       "    </tr>\n",
       "    <tr>\n",
       "      <th rowspan=\"3\" valign=\"top\">Research &amp; Development</th>\n",
       "      <th>Divorced</th>\n",
       "      <td>6724.209821</td>\n",
       "      <td>1129</td>\n",
       "      <td>19973</td>\n",
       "    </tr>\n",
       "    <tr>\n",
       "      <th>Married</th>\n",
       "      <td>6548.494226</td>\n",
       "      <td>1223</td>\n",
       "      <td>19999</td>\n",
       "    </tr>\n",
       "    <tr>\n",
       "      <th>Single</th>\n",
       "      <td>5574.220395</td>\n",
       "      <td>1009</td>\n",
       "      <td>19926</td>\n",
       "    </tr>\n",
       "    <tr>\n",
       "      <th rowspan=\"3\" valign=\"top\">Sales</th>\n",
       "      <th>Divorced</th>\n",
       "      <td>7251.597701</td>\n",
       "      <td>2275</td>\n",
       "      <td>19847</td>\n",
       "    </tr>\n",
       "    <tr>\n",
       "      <th>Married</th>\n",
       "      <td>7270.514563</td>\n",
       "      <td>1052</td>\n",
       "      <td>19845</td>\n",
       "    </tr>\n",
       "    <tr>\n",
       "      <th>Single</th>\n",
       "      <td>6373.699346</td>\n",
       "      <td>1081</td>\n",
       "      <td>19833</td>\n",
       "    </tr>\n",
       "  </tbody>\n",
       "</table>\n",
       "</div>"
      ],
      "text/plain": [
       "                                             mean   min    max\n",
       "Department             MaritalStatus                          \n",
       "Human Resources        Divorced       5125.250000  2064  19141\n",
       "                       Married        7026.970588  1555  19658\n",
       "                       Single         7562.538462  2109  19717\n",
       "Research & Development Divorced       6724.209821  1129  19973\n",
       "                       Married        6548.494226  1223  19999\n",
       "                       Single         5574.220395  1009  19926\n",
       "Sales                  Divorced       7251.597701  2275  19847\n",
       "                       Married        7270.514563  1052  19845\n",
       "                       Single         6373.699346  1081  19833"
      ]
     },
     "execution_count": 35,
     "metadata": {},
     "output_type": "execute_result"
    }
   ],
   "source": [
    "department_mari['MonthlyIncome'].agg(['mean', 'min', 'max'])"
   ]
  },
  {
   "cell_type": "code",
   "execution_count": 36,
   "metadata": {},
   "outputs": [],
   "source": [
    "# human resources part\n",
    "print_list=[]\n",
    "marita_list=['Divorced','Married','Single']\n",
    "current_list=[]\n",
    "divorceds=Human_Resource['MaritalStatus']=='Divorced'\n",
    "divorced=Human_Resource[divorceds]\n",
    "\n",
    "Marrieds=Human_Resource['MaritalStatus']=='Married'\n",
    "Married=Human_Resource[Marrieds]\n",
    "\n",
    "Singles=Human_Resource['MaritalStatus']=='Single'\n",
    "Single=Human_Resource[Singles]\n",
    "\n",
    "d=divorced['MonthlyIncome'].mean().round(3)\n",
    "m=Married['MonthlyIncome'].mean().round(3)\n",
    "s=Single['MonthlyIncome'].mean().round(3)\n",
    "current_list=[d,m,s]\n",
    "index1=current_list.index(max(current_list))\n",
    "index2=current_list.index(min(current_list))\n",
    "print_list.append(\"In Human Resource department, %s has the most mean income, %s has the lowest mean income\" %(marita_list[index1] ,marita_list[index2]))\n"
   ]
  },
  {
   "cell_type": "code",
   "execution_count": 37,
   "metadata": {},
   "outputs": [],
   "source": [
    "# sale part\n",
    "current_list=[]\n",
    "divorceds=sale['MaritalStatus']=='Divorced'\n",
    "divorced=sale[divorceds]\n",
    "\n",
    "Marrieds=sale['MaritalStatus']=='Married'\n",
    "Married=sale[Marrieds]\n",
    "\n",
    "Singles=sale['MaritalStatus']=='Single'\n",
    "Single=sale[Singles]\n",
    "\n",
    "d=divorced['MonthlyIncome'].mean().round(3)\n",
    "m=Married['MonthlyIncome'].mean().round(3)\n",
    "s=Single['MonthlyIncome'].mean().round(3)\n",
    "current_list=[d,m,s]\n",
    "index1=current_list.index(max(current_list))\n",
    "index2=current_list.index(min(current_list))\n",
    "print_list.append(\"In Sale department, %s has the most mean income, %s has the lowest mean income\" %(marita_list[index1] ,marita_list[index2]))\n"
   ]
  },
  {
   "cell_type": "code",
   "execution_count": 38,
   "metadata": {},
   "outputs": [
    {
     "data": {
      "text/plain": [
       "['In Human Resource department, Single has the most mean income, Divorced has the lowest mean income',\n",
       " 'In Sale department, Married has the most mean income, Single has the lowest mean income',\n",
       " 'In Research_Developmentdepartment, Divorced has the most mean income, Single has the lowest mean income']"
      ]
     },
     "execution_count": 38,
     "metadata": {},
     "output_type": "execute_result"
    }
   ],
   "source": [
    "#Research_Development part\n",
    "current_list=[]\n",
    "divorceds=Research_Development['MaritalStatus']=='Divorced'\n",
    "divorced=Research_Development[divorceds]\n",
    "\n",
    "Marrieds=Research_Development['MaritalStatus']=='Married'\n",
    "Married=Research_Development[Marrieds]\n",
    "\n",
    "Singles=sale['MaritalStatus']=='Single'\n",
    "Single=sale[Singles]\n",
    "\n",
    "d=divorced['MonthlyIncome'].mean().round(3)\n",
    "m=Married['MonthlyIncome'].mean().round(3)\n",
    "s=Single['MonthlyIncome'].mean().round(3)\n",
    "current_list=[d,m,s]\n",
    "index1=current_list.index(max(current_list))\n",
    "index2=current_list.index(min(current_list))\n",
    "print_list.append(\"In Research_Developmentdepartment, %s has the most mean income, %s has the lowest mean income\" %(marita_list[index1] ,marita_list[index2]))\n",
    "print_list"
   ]
  },
  {
   "cell_type": "markdown",
   "metadata": {},
   "source": [
    "## 3.5 Explore job satisfiction and income in different educational attainment group."
   ]
  },
  {
   "cell_type": "code",
   "execution_count": 39,
   "metadata": {},
   "outputs": [],
   "source": [
    "department_jobsat=df_HR_Employee_Attrition.groupby(['Department','JobSatisfaction'])"
   ]
  },
  {
   "cell_type": "code",
   "execution_count": 40,
   "metadata": {},
   "outputs": [
    {
     "data": {
      "text/html": [
       "<div>\n",
       "<style scoped>\n",
       "    .dataframe tbody tr th:only-of-type {\n",
       "        vertical-align: middle;\n",
       "    }\n",
       "\n",
       "    .dataframe tbody tr th {\n",
       "        vertical-align: top;\n",
       "    }\n",
       "\n",
       "    .dataframe thead th {\n",
       "        text-align: right;\n",
       "    }\n",
       "</style>\n",
       "<table border=\"1\" class=\"dataframe\">\n",
       "  <thead>\n",
       "    <tr style=\"text-align: right;\">\n",
       "      <th></th>\n",
       "      <th></th>\n",
       "      <th>mean</th>\n",
       "      <th>min</th>\n",
       "      <th>max</th>\n",
       "    </tr>\n",
       "    <tr>\n",
       "      <th>Department</th>\n",
       "      <th>JobSatisfaction</th>\n",
       "      <th></th>\n",
       "      <th></th>\n",
       "      <th></th>\n",
       "    </tr>\n",
       "  </thead>\n",
       "  <tbody>\n",
       "    <tr>\n",
       "      <th rowspan=\"4\" valign=\"top\">Human Resources</th>\n",
       "      <th>1</th>\n",
       "      <td>6457.272727</td>\n",
       "      <td>2073</td>\n",
       "      <td>16799</td>\n",
       "    </tr>\n",
       "    <tr>\n",
       "      <th>2</th>\n",
       "      <td>6649.800000</td>\n",
       "      <td>2109</td>\n",
       "      <td>19717</td>\n",
       "    </tr>\n",
       "    <tr>\n",
       "      <th>3</th>\n",
       "      <td>5895.933333</td>\n",
       "      <td>1555</td>\n",
       "      <td>19658</td>\n",
       "    </tr>\n",
       "    <tr>\n",
       "      <th>4</th>\n",
       "      <td>7457.000000</td>\n",
       "      <td>2145</td>\n",
       "      <td>19141</td>\n",
       "    </tr>\n",
       "    <tr>\n",
       "      <th rowspan=\"4\" valign=\"top\">Research &amp; Development</th>\n",
       "      <th>1</th>\n",
       "      <td>6374.036458</td>\n",
       "      <td>1416</td>\n",
       "      <td>19943</td>\n",
       "    </tr>\n",
       "    <tr>\n",
       "      <th>2</th>\n",
       "      <td>6129.574713</td>\n",
       "      <td>1261</td>\n",
       "      <td>19926</td>\n",
       "    </tr>\n",
       "    <tr>\n",
       "      <th>3</th>\n",
       "      <td>6437.970000</td>\n",
       "      <td>1009</td>\n",
       "      <td>19999</td>\n",
       "    </tr>\n",
       "    <tr>\n",
       "      <th>4</th>\n",
       "      <td>6150.955932</td>\n",
       "      <td>1051</td>\n",
       "      <td>19740</td>\n",
       "    </tr>\n",
       "    <tr>\n",
       "      <th rowspan=\"4\" valign=\"top\">Sales</th>\n",
       "      <th>1</th>\n",
       "      <td>6993.593023</td>\n",
       "      <td>1091</td>\n",
       "      <td>18947</td>\n",
       "    </tr>\n",
       "    <tr>\n",
       "      <th>2</th>\n",
       "      <td>7303.604651</td>\n",
       "      <td>1052</td>\n",
       "      <td>19847</td>\n",
       "    </tr>\n",
       "    <tr>\n",
       "      <th>3</th>\n",
       "      <td>6649.992126</td>\n",
       "      <td>1200</td>\n",
       "      <td>19331</td>\n",
       "    </tr>\n",
       "    <tr>\n",
       "      <th>4</th>\n",
       "      <td>7004.646259</td>\n",
       "      <td>1081</td>\n",
       "      <td>19845</td>\n",
       "    </tr>\n",
       "  </tbody>\n",
       "</table>\n",
       "</div>"
      ],
      "text/plain": [
       "                                               mean   min    max\n",
       "Department             JobSatisfaction                          \n",
       "Human Resources        1                6457.272727  2073  16799\n",
       "                       2                6649.800000  2109  19717\n",
       "                       3                5895.933333  1555  19658\n",
       "                       4                7457.000000  2145  19141\n",
       "Research & Development 1                6374.036458  1416  19943\n",
       "                       2                6129.574713  1261  19926\n",
       "                       3                6437.970000  1009  19999\n",
       "                       4                6150.955932  1051  19740\n",
       "Sales                  1                6993.593023  1091  18947\n",
       "                       2                7303.604651  1052  19847\n",
       "                       3                6649.992126  1200  19331\n",
       "                       4                7004.646259  1081  19845"
      ]
     },
     "execution_count": 40,
     "metadata": {},
     "output_type": "execute_result"
    }
   ],
   "source": [
    "department_jobsat['MonthlyIncome'].agg(['mean', 'min', 'max'])"
   ]
  },
  {
   "cell_type": "code",
   "execution_count": 41,
   "metadata": {},
   "outputs": [],
   "source": [
    "print_list=[]\n",
    "level_list=['leve 1','leve 2','level 3','level 4']\n",
    "current_list=[]\n",
    "level1s=Human_Resource['JobSatisfaction']==1\n",
    "level1=Human_Resource[level1s]\n",
    "\n",
    "level2s=Human_Resource['JobSatisfaction']==2\n",
    "level2=Human_Resource[level2s]\n",
    "\n",
    "level3s=Human_Resource['JobSatisfaction']==3\n",
    "level3=Human_Resource[level3s]\n",
    "\n",
    "level4s=Human_Resource['JobSatisfaction']==4\n",
    "level4=Human_Resource[level4s]\n",
    "\n",
    "a=level1['MonthlyIncome'].mean().round(3)\n",
    "b=level2['MonthlyIncome'].mean().round(3)\n",
    "c=level3['MonthlyIncome'].mean().round(3)\n",
    "d=level4['MonthlyIncome'].mean().round(3)\n",
    "\n",
    "current_list=[a,b,c,d]\n",
    "index1=current_list.index(max(current_list))\n",
    "index2=current_list.index(min(current_list))\n",
    "print_list.append(\"In Human Resource department, %s has the most mean income, %s has the lowest mean income\" %(level_list[index1] ,level_list[index2]))\n"
   ]
  },
  {
   "cell_type": "code",
   "execution_count": 42,
   "metadata": {},
   "outputs": [],
   "source": [
    "current_list=[]\n",
    "level1s=sale['JobSatisfaction']==1\n",
    "level1=sale[level1s]\n",
    "\n",
    "level2s=sale['JobSatisfaction']==2\n",
    "level2=sale[level2s]\n",
    "\n",
    "level3s=sale['JobSatisfaction']==3\n",
    "level3=sale[level3s]\n",
    "\n",
    "level4s=sale['JobSatisfaction']==4\n",
    "level4=sale[level4s]\n",
    "\n",
    "a=level1['MonthlyIncome'].mean().round(3)\n",
    "b=level2['MonthlyIncome'].mean().round(3)\n",
    "c=level3['MonthlyIncome'].mean().round(3)\n",
    "d=level4['MonthlyIncome'].mean().round(3)\n",
    "\n",
    "current_list=[a,b,c,d]\n",
    "index1=current_list.index(max(current_list))\n",
    "index2=current_list.index(min(current_list))\n",
    "print_list.append(\"In Sale department, %s has the most mean income, %s has the lowest mean income\" %(level_list[index1] ,level_list[index2]))\n",
    "\n"
   ]
  },
  {
   "cell_type": "code",
   "execution_count": 43,
   "metadata": {},
   "outputs": [
    {
     "data": {
      "text/plain": [
       "['In Human Resource department, level 4 has the most mean income, level 3 has the lowest mean income',\n",
       " 'In Sale department, leve 2 has the most mean income, level 3 has the lowest mean income',\n",
       " 'In Research_Development department, level 3 has the most mean income, leve 2 has the lowest mean income']"
      ]
     },
     "execution_count": 43,
     "metadata": {},
     "output_type": "execute_result"
    }
   ],
   "source": [
    "current_list=[]\n",
    "level1s=Research_Development['JobSatisfaction']==1\n",
    "level1=Research_Development[level1s]\n",
    "\n",
    "level2s=Research_Development['JobSatisfaction']==2\n",
    "level2=Research_Development[level2s]\n",
    "\n",
    "level3s=Research_Development['JobSatisfaction']==3\n",
    "level3=Research_Development[level3s]\n",
    "\n",
    "level4s=Research_Development['JobSatisfaction']==4\n",
    "level4=Research_Development[level4s]\n",
    "\n",
    "a=level1['MonthlyIncome'].mean().round(3)\n",
    "b=level2['MonthlyIncome'].mean().round(3)\n",
    "c=level3['MonthlyIncome'].mean().round(3)\n",
    "d=level4['MonthlyIncome'].mean().round(3)\n",
    "\n",
    "current_list=[a,b,c,d]\n",
    "index1=current_list.index(max(current_list))\n",
    "index2=current_list.index(min(current_list))\n",
    "print_list.append(\"In Research_Development department, %s has the most mean income, %s has the lowest mean income\" %(level_list[index1] ,level_list[index2]))\n",
    "\n",
    "print_list\n"
   ]
  }
 ],
 "metadata": {
  "kernelspec": {
   "display_name": "Python 3",
   "language": "python",
   "name": "python3"
  },
  "language_info": {
   "codemirror_mode": {
    "name": "ipython",
    "version": 3
   },
   "file_extension": ".py",
   "mimetype": "text/x-python",
   "name": "python",
   "nbconvert_exporter": "python",
   "pygments_lexer": "ipython3",
   "version": "3.7.7"
  }
 },
 "nbformat": 4,
 "nbformat_minor": 4
}
